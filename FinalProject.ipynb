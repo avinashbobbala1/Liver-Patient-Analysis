{
 "cells": [
  {
   "cell_type": "markdown",
   "id": "906c8cd0",
   "metadata": {},
   "source": [
    "# Indian Liver Patients - Analysis and Prediction  \n",
    "# By Venkata Durga Avinash Bobbala\n",
    "\n",
    "\n",
    "\n",
    "# Stat5000 Final Project\n",
    "\n",
    "\n",
    "\n",
    "\n",
    "\n",
    "\n",
    "\n"
   ]
  },
  {
   "cell_type": "markdown",
   "id": "fbad6eed",
   "metadata": {},
   "source": [
    "# Introduction\n",
    "We know that there has been an increase in liver disease due to various factors. Using this dataset we are going to try to come up with the best prediction algorithm to help doctors with their work. In order to do this we are going to have to look into the data and use different classification methods to find what works best for the data we have."
   ]
  },
  {
   "cell_type": "markdown",
   "id": "2aa0f0a7",
   "metadata": {},
   "source": [
    "# Importing required packages"
   ]
  },
  {
   "cell_type": "code",
   "execution_count": 1,
   "id": "cd8d2232",
   "metadata": {},
   "outputs": [],
   "source": [
    "# Data Loading and Numerical Operations\n",
    "import pandas as pd\n",
    "import numpy as np\n",
    "\n",
    "# Data Visualizations\n",
    "import matplotlib.pyplot as plt\n",
    "%matplotlib inline\n",
    "import seaborn as sns\n",
    "from scipy import stats\n",
    "\n",
    "# Data Resampling\n",
    "from sklearn.utils import resample\n",
    "\n",
    "# Data Feature Selection\n",
    "from sklearn.feature_selection import SelectKBest\n",
    "from sklearn.feature_selection import chi2\n",
    "\n",
    "# Data Splitting\n",
    "from sklearn.model_selection import train_test_split\n",
    "\n",
    "\n",
    "# Data Modeling\n",
    "from sklearn.linear_model import LogisticRegression\n",
    "from sklearn.neighbors import KNeighborsClassifier\n",
    "from sklearn.ensemble import RandomForestClassifier\n",
    "from sklearn.tree import DecisionTreeClassifier\n",
    "from sklearn.metrics import confusion_matrix, accuracy_score, roc_curve, classification_report"
   ]
  },
  {
   "cell_type": "markdown",
   "id": "5ac7937f",
   "metadata": {},
   "source": [
    "# Importing the dataset\n",
    "The dataset was downloaded from UCI Machine learning repository.This data set contains 416 liver patient records and 167 non liver patient records.The data set was collected from north east of Andhra Pradesh, India. Selector is a class label used to divide into groups(liver patient or not). This data set contains 441 male patient records and 142 female patient records."
   ]
  },
  {
   "cell_type": "code",
   "execution_count": 835,
   "id": "f91d542b",
   "metadata": {},
   "outputs": [
    {
     "data": {
      "text/plain": [
       "(583, 11)"
      ]
     },
     "execution_count": 835,
     "metadata": {},
     "output_type": "execute_result"
    }
   ],
   "source": [
    "data=pd.read_csv('indian_liver_patient.csv')\n",
    "data.shape"
   ]
  },
  {
   "cell_type": "code",
   "execution_count": 836,
   "id": "e70b3f28",
   "metadata": {},
   "outputs": [
    {
     "name": "stdout",
     "output_type": "stream",
     "text": [
      "<class 'pandas.core.frame.DataFrame'>\n",
      "RangeIndex: 583 entries, 0 to 582\n",
      "Data columns (total 11 columns):\n",
      " #   Column                      Non-Null Count  Dtype  \n",
      "---  ------                      --------------  -----  \n",
      " 0   Age                         583 non-null    int64  \n",
      " 1   Gender                      583 non-null    object \n",
      " 2   Total_Bilirubin             583 non-null    float64\n",
      " 3   Direct_Bilirubin            583 non-null    float64\n",
      " 4   Alkaline_Phosphotase        583 non-null    int64  \n",
      " 5   Alamine_Aminotransferase    583 non-null    int64  \n",
      " 6   Aspartate_Aminotransferase  583 non-null    int64  \n",
      " 7   Total_Protiens              583 non-null    float64\n",
      " 8   Albumin                     583 non-null    float64\n",
      " 9   Albumin_and_Globulin_Ratio  579 non-null    float64\n",
      " 10  Dataset                     583 non-null    int64  \n",
      "dtypes: float64(5), int64(5), object(1)\n",
      "memory usage: 50.2+ KB\n"
     ]
    }
   ],
   "source": [
    "data.info()"
   ]
  },
  {
   "cell_type": "markdown",
   "id": "b2325818",
   "metadata": {},
   "source": [
    "What we can see here is that the data contains (583 rows by 11 columns).This means the that df_liver contains 583 observations + 10 features + 1 response (or target) variable. The response variable is \"Dataset\". Furthermore, df_liver consists of 5 Floats, 5 integers and 1 object. Therefore, the goal is to convert the object to numerical values so we can apply machine learning (ML) algorithms. We also notice that the column, 'Albumin_and_Globulin_Ratio' contains missing values (Nan)."
   ]
  },
  {
   "cell_type": "code",
   "execution_count": 837,
   "id": "5177734f",
   "metadata": {},
   "outputs": [
    {
     "data": {
      "text/html": [
       "<div>\n",
       "<style scoped>\n",
       "    .dataframe tbody tr th:only-of-type {\n",
       "        vertical-align: middle;\n",
       "    }\n",
       "\n",
       "    .dataframe tbody tr th {\n",
       "        vertical-align: top;\n",
       "    }\n",
       "\n",
       "    .dataframe thead th {\n",
       "        text-align: right;\n",
       "    }\n",
       "</style>\n",
       "<table border=\"1\" class=\"dataframe\">\n",
       "  <thead>\n",
       "    <tr style=\"text-align: right;\">\n",
       "      <th></th>\n",
       "      <th>Age</th>\n",
       "      <th>Total_Bilirubin</th>\n",
       "      <th>Direct_Bilirubin</th>\n",
       "      <th>Alkaline_Phosphotase</th>\n",
       "      <th>Alamine_Aminotransferase</th>\n",
       "      <th>Aspartate_Aminotransferase</th>\n",
       "      <th>Total_Protiens</th>\n",
       "      <th>Albumin</th>\n",
       "      <th>Albumin_and_Globulin_Ratio</th>\n",
       "      <th>Dataset</th>\n",
       "    </tr>\n",
       "  </thead>\n",
       "  <tbody>\n",
       "    <tr>\n",
       "      <th>count</th>\n",
       "      <td>583.000000</td>\n",
       "      <td>583.000000</td>\n",
       "      <td>583.000000</td>\n",
       "      <td>583.000000</td>\n",
       "      <td>583.000000</td>\n",
       "      <td>583.000000</td>\n",
       "      <td>583.000000</td>\n",
       "      <td>583.000000</td>\n",
       "      <td>579.000000</td>\n",
       "      <td>583.000000</td>\n",
       "    </tr>\n",
       "    <tr>\n",
       "      <th>mean</th>\n",
       "      <td>44.746141</td>\n",
       "      <td>3.298799</td>\n",
       "      <td>1.486106</td>\n",
       "      <td>290.576329</td>\n",
       "      <td>80.713551</td>\n",
       "      <td>109.910806</td>\n",
       "      <td>6.483190</td>\n",
       "      <td>3.141852</td>\n",
       "      <td>0.947064</td>\n",
       "      <td>1.286449</td>\n",
       "    </tr>\n",
       "    <tr>\n",
       "      <th>std</th>\n",
       "      <td>16.189833</td>\n",
       "      <td>6.209522</td>\n",
       "      <td>2.808498</td>\n",
       "      <td>242.937989</td>\n",
       "      <td>182.620356</td>\n",
       "      <td>288.918529</td>\n",
       "      <td>1.085451</td>\n",
       "      <td>0.795519</td>\n",
       "      <td>0.319592</td>\n",
       "      <td>0.452490</td>\n",
       "    </tr>\n",
       "    <tr>\n",
       "      <th>min</th>\n",
       "      <td>4.000000</td>\n",
       "      <td>0.400000</td>\n",
       "      <td>0.100000</td>\n",
       "      <td>63.000000</td>\n",
       "      <td>10.000000</td>\n",
       "      <td>10.000000</td>\n",
       "      <td>2.700000</td>\n",
       "      <td>0.900000</td>\n",
       "      <td>0.300000</td>\n",
       "      <td>1.000000</td>\n",
       "    </tr>\n",
       "    <tr>\n",
       "      <th>25%</th>\n",
       "      <td>33.000000</td>\n",
       "      <td>0.800000</td>\n",
       "      <td>0.200000</td>\n",
       "      <td>175.500000</td>\n",
       "      <td>23.000000</td>\n",
       "      <td>25.000000</td>\n",
       "      <td>5.800000</td>\n",
       "      <td>2.600000</td>\n",
       "      <td>0.700000</td>\n",
       "      <td>1.000000</td>\n",
       "    </tr>\n",
       "    <tr>\n",
       "      <th>50%</th>\n",
       "      <td>45.000000</td>\n",
       "      <td>1.000000</td>\n",
       "      <td>0.300000</td>\n",
       "      <td>208.000000</td>\n",
       "      <td>35.000000</td>\n",
       "      <td>42.000000</td>\n",
       "      <td>6.600000</td>\n",
       "      <td>3.100000</td>\n",
       "      <td>0.930000</td>\n",
       "      <td>1.000000</td>\n",
       "    </tr>\n",
       "    <tr>\n",
       "      <th>75%</th>\n",
       "      <td>58.000000</td>\n",
       "      <td>2.600000</td>\n",
       "      <td>1.300000</td>\n",
       "      <td>298.000000</td>\n",
       "      <td>60.500000</td>\n",
       "      <td>87.000000</td>\n",
       "      <td>7.200000</td>\n",
       "      <td>3.800000</td>\n",
       "      <td>1.100000</td>\n",
       "      <td>2.000000</td>\n",
       "    </tr>\n",
       "    <tr>\n",
       "      <th>max</th>\n",
       "      <td>90.000000</td>\n",
       "      <td>75.000000</td>\n",
       "      <td>19.700000</td>\n",
       "      <td>2110.000000</td>\n",
       "      <td>2000.000000</td>\n",
       "      <td>4929.000000</td>\n",
       "      <td>9.600000</td>\n",
       "      <td>5.500000</td>\n",
       "      <td>2.800000</td>\n",
       "      <td>2.000000</td>\n",
       "    </tr>\n",
       "  </tbody>\n",
       "</table>\n",
       "</div>"
      ],
      "text/plain": [
       "              Age  Total_Bilirubin  Direct_Bilirubin  Alkaline_Phosphotase  \\\n",
       "count  583.000000       583.000000        583.000000            583.000000   \n",
       "mean    44.746141         3.298799          1.486106            290.576329   \n",
       "std     16.189833         6.209522          2.808498            242.937989   \n",
       "min      4.000000         0.400000          0.100000             63.000000   \n",
       "25%     33.000000         0.800000          0.200000            175.500000   \n",
       "50%     45.000000         1.000000          0.300000            208.000000   \n",
       "75%     58.000000         2.600000          1.300000            298.000000   \n",
       "max     90.000000        75.000000         19.700000           2110.000000   \n",
       "\n",
       "       Alamine_Aminotransferase  Aspartate_Aminotransferase  Total_Protiens  \\\n",
       "count                583.000000                  583.000000      583.000000   \n",
       "mean                  80.713551                  109.910806        6.483190   \n",
       "std                  182.620356                  288.918529        1.085451   \n",
       "min                   10.000000                   10.000000        2.700000   \n",
       "25%                   23.000000                   25.000000        5.800000   \n",
       "50%                   35.000000                   42.000000        6.600000   \n",
       "75%                   60.500000                   87.000000        7.200000   \n",
       "max                 2000.000000                 4929.000000        9.600000   \n",
       "\n",
       "          Albumin  Albumin_and_Globulin_Ratio     Dataset  \n",
       "count  583.000000                  579.000000  583.000000  \n",
       "mean     3.141852                    0.947064    1.286449  \n",
       "std      0.795519                    0.319592    0.452490  \n",
       "min      0.900000                    0.300000    1.000000  \n",
       "25%      2.600000                    0.700000    1.000000  \n",
       "50%      3.100000                    0.930000    1.000000  \n",
       "75%      3.800000                    1.100000    2.000000  \n",
       "max      5.500000                    2.800000    2.000000  "
      ]
     },
     "execution_count": 837,
     "metadata": {},
     "output_type": "execute_result"
    }
   ],
   "source": [
    "# We can performing some simple statistical inferences to get a good feel of the data\n",
    "data.describe()"
   ]
  },
  {
   "cell_type": "markdown",
   "id": "7c00b6b7",
   "metadata": {},
   "source": [
    "From the descriptive statistics above, we notice that the minimum age is 4 and the maximum is 90. Based on the information on this dataset, it was suggested that anyone above the age of 89 should be treated as 90. So we can change that through the creation of a new dataframe. Furthermore, we notice missing values in the column \"Albumin_and_Globulin_Ratio\", which we can deal with shortly. Lastly, it would be a good idea to figure out the ranges of healthy patients in order to figure out where each patient lies."
   ]
  },
  {
   "cell_type": "markdown",
   "id": "f72765c9",
   "metadata": {},
   "source": [
    "# Healthy Ranges for the 10 feature columns\n",
    "\n",
    "Total_Bilirubin = 0.1 to 1.2 mg/dL = 1.71 to 20.5 umol/L\n",
    "\n",
    "Direct_Bilirubin = < 0.3 mg/dL = < 5.1 umol/L\n",
    "\n",
    "Alkaline_Phosphatase = 44 to 147 IU/L (High levels of ALP are seen in children undergoing growth and pregnant women)\n",
    "\n",
    "Alamine_Aminotransferase = 29 to 33 IU/L (Age and gender can affect the value)\n",
    "\n",
    "Aspartate_Aminotransferase = 1 to 45 U/L (Values are slightly lower in females) \n",
    "\n",
    "Total_Proteins = 6.0 to 8.3 g/dL\n",
    "\n",
    "Albumin = 3.4 to 5.4 g/dL\n",
    "\n",
    "Albumin_and_Globulin_Ratio = Adult: 3.7 to 5.2 g/dL; Older Adult: 3.2 to 4.6 g/dL; >90 yr: 2.9 to 4.5 g/dL\n",
    "            \n",
    "The above normal values are obtained from google."
   ]
  },
  {
   "cell_type": "code",
   "execution_count": 838,
   "id": "6682a57e",
   "metadata": {},
   "outputs": [
    {
     "data": {
      "text/html": [
       "<div>\n",
       "<style scoped>\n",
       "    .dataframe tbody tr th:only-of-type {\n",
       "        vertical-align: middle;\n",
       "    }\n",
       "\n",
       "    .dataframe tbody tr th {\n",
       "        vertical-align: top;\n",
       "    }\n",
       "\n",
       "    .dataframe thead th {\n",
       "        text-align: right;\n",
       "    }\n",
       "</style>\n",
       "<table border=\"1\" class=\"dataframe\">\n",
       "  <thead>\n",
       "    <tr style=\"text-align: right;\">\n",
       "      <th></th>\n",
       "      <th>Age</th>\n",
       "      <th>Gender</th>\n",
       "      <th>Total_Bilirubin</th>\n",
       "      <th>Direct_Bilirubin</th>\n",
       "      <th>Alkaline_Phosphotase</th>\n",
       "      <th>Alamine_Aminotransferase</th>\n",
       "      <th>Aspartate_Aminotransferase</th>\n",
       "      <th>Total_Protiens</th>\n",
       "      <th>Albumin</th>\n",
       "      <th>Albumin_and_Globulin_Ratio</th>\n",
       "      <th>Dataset</th>\n",
       "    </tr>\n",
       "  </thead>\n",
       "  <tbody>\n",
       "    <tr>\n",
       "      <th>0</th>\n",
       "      <td>65</td>\n",
       "      <td>Female</td>\n",
       "      <td>0.7</td>\n",
       "      <td>0.1</td>\n",
       "      <td>187</td>\n",
       "      <td>16</td>\n",
       "      <td>18</td>\n",
       "      <td>6.8</td>\n",
       "      <td>3.3</td>\n",
       "      <td>0.90</td>\n",
       "      <td>1</td>\n",
       "    </tr>\n",
       "    <tr>\n",
       "      <th>1</th>\n",
       "      <td>62</td>\n",
       "      <td>Male</td>\n",
       "      <td>10.9</td>\n",
       "      <td>5.5</td>\n",
       "      <td>699</td>\n",
       "      <td>64</td>\n",
       "      <td>100</td>\n",
       "      <td>7.5</td>\n",
       "      <td>3.2</td>\n",
       "      <td>0.74</td>\n",
       "      <td>1</td>\n",
       "    </tr>\n",
       "    <tr>\n",
       "      <th>2</th>\n",
       "      <td>62</td>\n",
       "      <td>Male</td>\n",
       "      <td>7.3</td>\n",
       "      <td>4.1</td>\n",
       "      <td>490</td>\n",
       "      <td>60</td>\n",
       "      <td>68</td>\n",
       "      <td>7.0</td>\n",
       "      <td>3.3</td>\n",
       "      <td>0.89</td>\n",
       "      <td>1</td>\n",
       "    </tr>\n",
       "    <tr>\n",
       "      <th>3</th>\n",
       "      <td>58</td>\n",
       "      <td>Male</td>\n",
       "      <td>1.0</td>\n",
       "      <td>0.4</td>\n",
       "      <td>182</td>\n",
       "      <td>14</td>\n",
       "      <td>20</td>\n",
       "      <td>6.8</td>\n",
       "      <td>3.4</td>\n",
       "      <td>1.00</td>\n",
       "      <td>1</td>\n",
       "    </tr>\n",
       "    <tr>\n",
       "      <th>4</th>\n",
       "      <td>72</td>\n",
       "      <td>Male</td>\n",
       "      <td>3.9</td>\n",
       "      <td>2.0</td>\n",
       "      <td>195</td>\n",
       "      <td>27</td>\n",
       "      <td>59</td>\n",
       "      <td>7.3</td>\n",
       "      <td>2.4</td>\n",
       "      <td>0.40</td>\n",
       "      <td>1</td>\n",
       "    </tr>\n",
       "    <tr>\n",
       "      <th>5</th>\n",
       "      <td>46</td>\n",
       "      <td>Male</td>\n",
       "      <td>1.8</td>\n",
       "      <td>0.7</td>\n",
       "      <td>208</td>\n",
       "      <td>19</td>\n",
       "      <td>14</td>\n",
       "      <td>7.6</td>\n",
       "      <td>4.4</td>\n",
       "      <td>1.30</td>\n",
       "      <td>1</td>\n",
       "    </tr>\n",
       "    <tr>\n",
       "      <th>6</th>\n",
       "      <td>26</td>\n",
       "      <td>Female</td>\n",
       "      <td>0.9</td>\n",
       "      <td>0.2</td>\n",
       "      <td>154</td>\n",
       "      <td>16</td>\n",
       "      <td>12</td>\n",
       "      <td>7.0</td>\n",
       "      <td>3.5</td>\n",
       "      <td>1.00</td>\n",
       "      <td>1</td>\n",
       "    </tr>\n",
       "    <tr>\n",
       "      <th>7</th>\n",
       "      <td>29</td>\n",
       "      <td>Female</td>\n",
       "      <td>0.9</td>\n",
       "      <td>0.3</td>\n",
       "      <td>202</td>\n",
       "      <td>14</td>\n",
       "      <td>11</td>\n",
       "      <td>6.7</td>\n",
       "      <td>3.6</td>\n",
       "      <td>1.10</td>\n",
       "      <td>1</td>\n",
       "    </tr>\n",
       "    <tr>\n",
       "      <th>8</th>\n",
       "      <td>17</td>\n",
       "      <td>Male</td>\n",
       "      <td>0.9</td>\n",
       "      <td>0.3</td>\n",
       "      <td>202</td>\n",
       "      <td>22</td>\n",
       "      <td>19</td>\n",
       "      <td>7.4</td>\n",
       "      <td>4.1</td>\n",
       "      <td>1.20</td>\n",
       "      <td>2</td>\n",
       "    </tr>\n",
       "    <tr>\n",
       "      <th>9</th>\n",
       "      <td>55</td>\n",
       "      <td>Male</td>\n",
       "      <td>0.7</td>\n",
       "      <td>0.2</td>\n",
       "      <td>290</td>\n",
       "      <td>53</td>\n",
       "      <td>58</td>\n",
       "      <td>6.8</td>\n",
       "      <td>3.4</td>\n",
       "      <td>1.00</td>\n",
       "      <td>1</td>\n",
       "    </tr>\n",
       "  </tbody>\n",
       "</table>\n",
       "</div>"
      ],
      "text/plain": [
       "   Age  Gender  Total_Bilirubin  Direct_Bilirubin  Alkaline_Phosphotase  \\\n",
       "0   65  Female              0.7               0.1                   187   \n",
       "1   62    Male             10.9               5.5                   699   \n",
       "2   62    Male              7.3               4.1                   490   \n",
       "3   58    Male              1.0               0.4                   182   \n",
       "4   72    Male              3.9               2.0                   195   \n",
       "5   46    Male              1.8               0.7                   208   \n",
       "6   26  Female              0.9               0.2                   154   \n",
       "7   29  Female              0.9               0.3                   202   \n",
       "8   17    Male              0.9               0.3                   202   \n",
       "9   55    Male              0.7               0.2                   290   \n",
       "\n",
       "   Alamine_Aminotransferase  Aspartate_Aminotransferase  Total_Protiens  \\\n",
       "0                        16                          18             6.8   \n",
       "1                        64                         100             7.5   \n",
       "2                        60                          68             7.0   \n",
       "3                        14                          20             6.8   \n",
       "4                        27                          59             7.3   \n",
       "5                        19                          14             7.6   \n",
       "6                        16                          12             7.0   \n",
       "7                        14                          11             6.7   \n",
       "8                        22                          19             7.4   \n",
       "9                        53                          58             6.8   \n",
       "\n",
       "   Albumin  Albumin_and_Globulin_Ratio  Dataset  \n",
       "0      3.3                        0.90        1  \n",
       "1      3.2                        0.74        1  \n",
       "2      3.3                        0.89        1  \n",
       "3      3.4                        1.00        1  \n",
       "4      2.4                        0.40        1  \n",
       "5      4.4                        1.30        1  \n",
       "6      3.5                        1.00        1  \n",
       "7      3.6                        1.10        1  \n",
       "8      4.1                        1.20        2  \n",
       "9      3.4                        1.00        1  "
      ]
     },
     "execution_count": 838,
     "metadata": {},
     "output_type": "execute_result"
    }
   ],
   "source": [
    "data.head(10)"
   ]
  },
  {
   "cell_type": "markdown",
   "id": "78247bb7",
   "metadata": {},
   "source": [
    "# Checking for Missing values and Duplicates\n",
    "There are 4 missing values in Albumin_and_Globulin_Ratio and found 13 instances of duplicates."
   ]
  },
  {
   "cell_type": "code",
   "execution_count": 839,
   "id": "50f78554",
   "metadata": {},
   "outputs": [
    {
     "data": {
      "text/plain": [
       "Age                           0\n",
       "Gender                        0\n",
       "Total_Bilirubin               0\n",
       "Direct_Bilirubin              0\n",
       "Alkaline_Phosphotase          0\n",
       "Alamine_Aminotransferase      0\n",
       "Aspartate_Aminotransferase    0\n",
       "Total_Protiens                0\n",
       "Albumin                       0\n",
       "Albumin_and_Globulin_Ratio    4\n",
       "Dataset                       0\n",
       "dtype: int64"
      ]
     },
     "execution_count": 839,
     "metadata": {},
     "output_type": "execute_result"
    }
   ],
   "source": [
    "data.isnull().sum()"
   ]
  },
  {
   "cell_type": "code",
   "execution_count": 840,
   "id": "1ffef2ab",
   "metadata": {},
   "outputs": [
    {
     "data": {
      "text/plain": [
       "13"
      ]
     },
     "execution_count": 840,
     "metadata": {},
     "output_type": "execute_result"
    }
   ],
   "source": [
    "data.duplicated().sum()"
   ]
  },
  {
   "cell_type": "markdown",
   "id": "a1a597a6",
   "metadata": {},
   "source": [
    "Using mean to fill the missing values. Similarly, we can also use mode or median instead of mean but I feel mean may be more accurate to use in this dataset."
   ]
  },
  {
   "cell_type": "code",
   "execution_count": 841,
   "id": "7c369c62",
   "metadata": {},
   "outputs": [],
   "source": [
    "data['Albumin_and_Globulin_Ratio'].fillna(data['Albumin_and_Globulin_Ratio'].mean(),inplace=True)"
   ]
  },
  {
   "cell_type": "code",
   "execution_count": 842,
   "id": "f5651665",
   "metadata": {},
   "outputs": [
    {
     "data": {
      "text/plain": [
       "Age                           0\n",
       "Gender                        0\n",
       "Total_Bilirubin               0\n",
       "Direct_Bilirubin              0\n",
       "Alkaline_Phosphotase          0\n",
       "Alamine_Aminotransferase      0\n",
       "Aspartate_Aminotransferase    0\n",
       "Total_Protiens                0\n",
       "Albumin                       0\n",
       "Albumin_and_Globulin_Ratio    0\n",
       "Dataset                       0\n",
       "dtype: int64"
      ]
     },
     "execution_count": 842,
     "metadata": {},
     "output_type": "execute_result"
    }
   ],
   "source": [
    "data.isnull().sum()"
   ]
  },
  {
   "cell_type": "code",
   "execution_count": 843,
   "id": "7abf6485",
   "metadata": {},
   "outputs": [],
   "source": [
    "data = data.drop_duplicates()"
   ]
  },
  {
   "cell_type": "code",
   "execution_count": 844,
   "id": "1807de4f",
   "metadata": {},
   "outputs": [
    {
     "data": {
      "text/plain": [
       "0"
      ]
     },
     "execution_count": 844,
     "metadata": {},
     "output_type": "execute_result"
    }
   ],
   "source": [
    "data.duplicated().sum()"
   ]
  },
  {
   "cell_type": "markdown",
   "id": "f31e8556",
   "metadata": {},
   "source": [
    "# Coverting categorical variable to numeric \n",
    "The representation of gender as male and female are coverted to male as 1 and female as 0."
   ]
  },
  {
   "cell_type": "code",
   "execution_count": 845,
   "id": "02ce42ba",
   "metadata": {},
   "outputs": [],
   "source": [
    "data['Gender'] = data['Gender'].map({'Male': 1, 'Female': 0})"
   ]
  },
  {
   "cell_type": "code",
   "execution_count": 846,
   "id": "9d0ac4e6",
   "metadata": {},
   "outputs": [
    {
     "data": {
      "text/html": [
       "<div>\n",
       "<style scoped>\n",
       "    .dataframe tbody tr th:only-of-type {\n",
       "        vertical-align: middle;\n",
       "    }\n",
       "\n",
       "    .dataframe tbody tr th {\n",
       "        vertical-align: top;\n",
       "    }\n",
       "\n",
       "    .dataframe thead th {\n",
       "        text-align: right;\n",
       "    }\n",
       "</style>\n",
       "<table border=\"1\" class=\"dataframe\">\n",
       "  <thead>\n",
       "    <tr style=\"text-align: right;\">\n",
       "      <th></th>\n",
       "      <th>Age</th>\n",
       "      <th>Gender</th>\n",
       "      <th>Total_Bilirubin</th>\n",
       "      <th>Direct_Bilirubin</th>\n",
       "      <th>Alkaline_Phosphotase</th>\n",
       "      <th>Alamine_Aminotransferase</th>\n",
       "      <th>Aspartate_Aminotransferase</th>\n",
       "      <th>Total_Protiens</th>\n",
       "      <th>Albumin</th>\n",
       "      <th>Albumin_and_Globulin_Ratio</th>\n",
       "      <th>Dataset</th>\n",
       "    </tr>\n",
       "  </thead>\n",
       "  <tbody>\n",
       "    <tr>\n",
       "      <th>573</th>\n",
       "      <td>32</td>\n",
       "      <td>1</td>\n",
       "      <td>3.7</td>\n",
       "      <td>1.6</td>\n",
       "      <td>612</td>\n",
       "      <td>50</td>\n",
       "      <td>88</td>\n",
       "      <td>6.2</td>\n",
       "      <td>1.9</td>\n",
       "      <td>0.40</td>\n",
       "      <td>1</td>\n",
       "    </tr>\n",
       "    <tr>\n",
       "      <th>574</th>\n",
       "      <td>32</td>\n",
       "      <td>1</td>\n",
       "      <td>12.1</td>\n",
       "      <td>6.0</td>\n",
       "      <td>515</td>\n",
       "      <td>48</td>\n",
       "      <td>92</td>\n",
       "      <td>6.6</td>\n",
       "      <td>2.4</td>\n",
       "      <td>0.50</td>\n",
       "      <td>1</td>\n",
       "    </tr>\n",
       "    <tr>\n",
       "      <th>575</th>\n",
       "      <td>32</td>\n",
       "      <td>1</td>\n",
       "      <td>25.0</td>\n",
       "      <td>13.7</td>\n",
       "      <td>560</td>\n",
       "      <td>41</td>\n",
       "      <td>88</td>\n",
       "      <td>7.9</td>\n",
       "      <td>2.5</td>\n",
       "      <td>2.50</td>\n",
       "      <td>1</td>\n",
       "    </tr>\n",
       "    <tr>\n",
       "      <th>576</th>\n",
       "      <td>32</td>\n",
       "      <td>1</td>\n",
       "      <td>15.0</td>\n",
       "      <td>8.2</td>\n",
       "      <td>289</td>\n",
       "      <td>58</td>\n",
       "      <td>80</td>\n",
       "      <td>5.3</td>\n",
       "      <td>2.2</td>\n",
       "      <td>0.70</td>\n",
       "      <td>1</td>\n",
       "    </tr>\n",
       "    <tr>\n",
       "      <th>577</th>\n",
       "      <td>32</td>\n",
       "      <td>1</td>\n",
       "      <td>12.7</td>\n",
       "      <td>8.4</td>\n",
       "      <td>190</td>\n",
       "      <td>28</td>\n",
       "      <td>47</td>\n",
       "      <td>5.4</td>\n",
       "      <td>2.6</td>\n",
       "      <td>0.90</td>\n",
       "      <td>1</td>\n",
       "    </tr>\n",
       "    <tr>\n",
       "      <th>578</th>\n",
       "      <td>60</td>\n",
       "      <td>1</td>\n",
       "      <td>0.5</td>\n",
       "      <td>0.1</td>\n",
       "      <td>500</td>\n",
       "      <td>20</td>\n",
       "      <td>34</td>\n",
       "      <td>5.9</td>\n",
       "      <td>1.6</td>\n",
       "      <td>0.37</td>\n",
       "      <td>2</td>\n",
       "    </tr>\n",
       "    <tr>\n",
       "      <th>579</th>\n",
       "      <td>40</td>\n",
       "      <td>1</td>\n",
       "      <td>0.6</td>\n",
       "      <td>0.1</td>\n",
       "      <td>98</td>\n",
       "      <td>35</td>\n",
       "      <td>31</td>\n",
       "      <td>6.0</td>\n",
       "      <td>3.2</td>\n",
       "      <td>1.10</td>\n",
       "      <td>1</td>\n",
       "    </tr>\n",
       "    <tr>\n",
       "      <th>580</th>\n",
       "      <td>52</td>\n",
       "      <td>1</td>\n",
       "      <td>0.8</td>\n",
       "      <td>0.2</td>\n",
       "      <td>245</td>\n",
       "      <td>48</td>\n",
       "      <td>49</td>\n",
       "      <td>6.4</td>\n",
       "      <td>3.2</td>\n",
       "      <td>1.00</td>\n",
       "      <td>1</td>\n",
       "    </tr>\n",
       "    <tr>\n",
       "      <th>581</th>\n",
       "      <td>31</td>\n",
       "      <td>1</td>\n",
       "      <td>1.3</td>\n",
       "      <td>0.5</td>\n",
       "      <td>184</td>\n",
       "      <td>29</td>\n",
       "      <td>32</td>\n",
       "      <td>6.8</td>\n",
       "      <td>3.4</td>\n",
       "      <td>1.00</td>\n",
       "      <td>1</td>\n",
       "    </tr>\n",
       "    <tr>\n",
       "      <th>582</th>\n",
       "      <td>38</td>\n",
       "      <td>1</td>\n",
       "      <td>1.0</td>\n",
       "      <td>0.3</td>\n",
       "      <td>216</td>\n",
       "      <td>21</td>\n",
       "      <td>24</td>\n",
       "      <td>7.3</td>\n",
       "      <td>4.4</td>\n",
       "      <td>1.50</td>\n",
       "      <td>2</td>\n",
       "    </tr>\n",
       "  </tbody>\n",
       "</table>\n",
       "</div>"
      ],
      "text/plain": [
       "     Age  Gender  Total_Bilirubin  Direct_Bilirubin  Alkaline_Phosphotase  \\\n",
       "573   32       1              3.7               1.6                   612   \n",
       "574   32       1             12.1               6.0                   515   \n",
       "575   32       1             25.0              13.7                   560   \n",
       "576   32       1             15.0               8.2                   289   \n",
       "577   32       1             12.7               8.4                   190   \n",
       "578   60       1              0.5               0.1                   500   \n",
       "579   40       1              0.6               0.1                    98   \n",
       "580   52       1              0.8               0.2                   245   \n",
       "581   31       1              1.3               0.5                   184   \n",
       "582   38       1              1.0               0.3                   216   \n",
       "\n",
       "     Alamine_Aminotransferase  Aspartate_Aminotransferase  Total_Protiens  \\\n",
       "573                        50                          88             6.2   \n",
       "574                        48                          92             6.6   \n",
       "575                        41                          88             7.9   \n",
       "576                        58                          80             5.3   \n",
       "577                        28                          47             5.4   \n",
       "578                        20                          34             5.9   \n",
       "579                        35                          31             6.0   \n",
       "580                        48                          49             6.4   \n",
       "581                        29                          32             6.8   \n",
       "582                        21                          24             7.3   \n",
       "\n",
       "     Albumin  Albumin_and_Globulin_Ratio  Dataset  \n",
       "573      1.9                        0.40        1  \n",
       "574      2.4                        0.50        1  \n",
       "575      2.5                        2.50        1  \n",
       "576      2.2                        0.70        1  \n",
       "577      2.6                        0.90        1  \n",
       "578      1.6                        0.37        2  \n",
       "579      3.2                        1.10        1  \n",
       "580      3.2                        1.00        1  \n",
       "581      3.4                        1.00        1  \n",
       "582      4.4                        1.50        2  "
      ]
     },
     "execution_count": 846,
     "metadata": {},
     "output_type": "execute_result"
    }
   ],
   "source": [
    "data.tail(10)"
   ]
  },
  {
   "cell_type": "markdown",
   "id": "2093280d",
   "metadata": {},
   "source": [
    "# Representation of outcome whether a person is suffering from liver disease or not.\n",
    "Value 1 represents the prople with liver disease and 2 represent the prople without liver disease."
   ]
  },
  {
   "cell_type": "code",
   "execution_count": 847,
   "id": "6358f941",
   "metadata": {},
   "outputs": [
    {
     "data": {
      "image/png": "[encoded data removed]",
      "text/plain": [
       "<Figure size 648x648 with 1 Axes>"
      ]
     },
     "metadata": {
      "needs_background": "light"
     },
     "output_type": "display_data"
    }
   ],
   "source": [
    "plt.figure(figsize=(9,9))\n",
    "sns.countplot(data = data, x = 'Dataset');"
   ]
  },
  {
   "cell_type": "markdown",
   "id": "32d9f127",
   "metadata": {},
   "source": [
    "# Visualizing data with liver disease along with Gender\n"
   ]
  },
  {
   "cell_type": "code",
   "execution_count": 848,
   "id": "5d4ea2ab",
   "metadata": {},
   "outputs": [
    {
     "data": {
      "text/plain": [
       "Text(0.5, 0, 'Patient Condition')"
      ]
     },
     "execution_count": 848,
     "metadata": {},
     "output_type": "execute_result"
    },
    {
     "data": {
      "image/png": "[encoded data removed]",
      "text/plain": [
       "<Figure size 648x648 with 1 Axes>"
      ]
     },
     "metadata": {
      "needs_background": "light"
     },
     "output_type": "display_data"
    }
   ],
   "source": [
    "plt.figure(figsize=(9,9))\n",
    "ax = sns.countplot(x = data['Dataset'].apply(lambda x:'Normal' if x == 1 else 'Liver Disease'), hue=data['Gender'])\n",
    "ax.set_xlabel('Patient Condition')"
   ]
  },
  {
   "cell_type": "markdown",
   "id": "33a41a89",
   "metadata": {},
   "source": [
    "We can observe that men are mostly suffering from liver diseases compared to women but also It's worth noting that this dataset is unbalanced in both Gender and Liver Patient status; there are considerably more men and liver patients than women and non-liver patients. It's not necessarily a problem in this case but extra caution will be required when building predictive models. So, for now we are going to balance the dataset based on outcome(Dataset) in future."
   ]
  },
  {
   "cell_type": "markdown",
   "id": "8be9ee74",
   "metadata": {},
   "source": [
    "# Exploring the data visually\n",
    "Let's try to find any correlations between the features."
   ]
  },
  {
   "cell_type": "code",
   "execution_count": 849,
   "id": "a000343a",
   "metadata": {},
   "outputs": [
    {
     "name": "stderr",
     "output_type": "stream",
     "text": [
      "C:\\Users\\avina\\anaconda3\\lib\\site-packages\\seaborn\\_decorators.py:36: FutureWarning: Pass the following variables as keyword args: x, y. From version 0.12, the only valid positional argument will be `data`, and passing other arguments without an explicit keyword will result in an error or misinterpretation.\n",
      "  warnings.warn(\n"
     ]
    },
    {
     "data": {
      "text/plain": [
       "<seaborn.axisgrid.JointGrid at 0x1f190eb1f10>"
      ]
     },
     "execution_count": 849,
     "metadata": {},
     "output_type": "execute_result"
    },
    {
     "data": {
      "text/plain": [
       "<Figure size 864x864 with 0 Axes>"
      ]
     },
     "metadata": {},
     "output_type": "display_data"
    },
    {
     "data": {
      "image/png": "[encoded data removed]",
      "text/plain": [
       "<Figure size 432x432 with 3 Axes>"
      ]
     },
     "metadata": {
      "needs_background": "light"
     },
     "output_type": "display_data"
    }
   ],
   "source": [
    "#Jointplot between Total_Bilirubin and Direct_Bilirubin\n",
    "plt.figure(figsize=(12,12))\n",
    "sns.jointplot(\"Total_Bilirubin\", \"Direct_Bilirubin\", data=data, kind=\"reg\")"
   ]
  },
  {
   "cell_type": "code",
   "execution_count": 850,
   "id": "194b0041",
   "metadata": {},
   "outputs": [
    {
     "name": "stderr",
     "output_type": "stream",
     "text": [
      "C:\\Users\\avina\\anaconda3\\lib\\site-packages\\seaborn\\_decorators.py:36: FutureWarning: Pass the following variables as keyword args: x, y. From version 0.12, the only valid positional argument will be `data`, and passing other arguments without an explicit keyword will result in an error or misinterpretation.\n",
      "  warnings.warn(\n"
     ]
    },
    {
     "data": {
      "text/plain": [
       "<seaborn.axisgrid.JointGrid at 0x1f190b8e940>"
      ]
     },
     "execution_count": 850,
     "metadata": {},
     "output_type": "execute_result"
    },
    {
     "data": {
      "text/plain": [
       "<Figure size 864x864 with 0 Axes>"
      ]
     },
     "metadata": {},
     "output_type": "display_data"
    },
    {
     "data": {
      "image/png": "[encoded data removed]",
      "text/plain": [
       "<Figure size 432x432 with 3 Axes>"
      ]
     },
     "metadata": {
      "needs_background": "light"
     },
     "output_type": "display_data"
    }
   ],
   "source": [
    "#Jointplot between Aspartate_Aminotransferase and Alamine_Aminotransferase\n",
    "plt.figure(figsize=(12,12))\n",
    "sns.jointplot(\"Aspartate_Aminotransferase\", \"Alamine_Aminotransferase\", data=data, kind=\"reg\")"
   ]
  },
  {
   "cell_type": "code",
   "execution_count": 851,
   "id": "a78638d6",
   "metadata": {},
   "outputs": [
    {
     "name": "stderr",
     "output_type": "stream",
     "text": [
      "C:\\Users\\avina\\anaconda3\\lib\\site-packages\\seaborn\\_decorators.py:36: FutureWarning: Pass the following variables as keyword args: x, y. From version 0.12, the only valid positional argument will be `data`, and passing other arguments without an explicit keyword will result in an error or misinterpretation.\n",
      "  warnings.warn(\n"
     ]
    },
    {
     "data": {
      "text/plain": [
       "<seaborn.axisgrid.JointGrid at 0x1f192569520>"
      ]
     },
     "execution_count": 851,
     "metadata": {},
     "output_type": "execute_result"
    },
    {
     "data": {
      "text/plain": [
       "<Figure size 864x864 with 0 Axes>"
      ]
     },
     "metadata": {},
     "output_type": "display_data"
    },
    {
     "data": {
      "image/png": "[encoded data removed]",
      "text/plain": [
       "<Figure size 432x432 with 3 Axes>"
      ]
     },
     "metadata": {
      "needs_background": "light"
     },
     "output_type": "display_data"
    }
   ],
   "source": [
    "#Jointplot between Total_Protiens and Albumin\n",
    "plt.figure(figsize=(12,12))\n",
    "sns.jointplot(\"Total_Protiens\", \"Albumin\", data=data, kind=\"reg\")"
   ]
  },
  {
   "cell_type": "code",
   "execution_count": 852,
   "id": "0ed2e402",
   "metadata": {},
   "outputs": [
    {
     "name": "stderr",
     "output_type": "stream",
     "text": [
      "C:\\Users\\avina\\anaconda3\\lib\\site-packages\\seaborn\\_decorators.py:36: FutureWarning: Pass the following variables as keyword args: x, y. From version 0.12, the only valid positional argument will be `data`, and passing other arguments without an explicit keyword will result in an error or misinterpretation.\n",
      "  warnings.warn(\n"
     ]
    },
    {
     "data": {
      "text/plain": [
       "<seaborn.axisgrid.JointGrid at 0x1f1926d27f0>"
      ]
     },
     "execution_count": 852,
     "metadata": {},
     "output_type": "execute_result"
    },
    {
     "data": {
      "text/plain": [
       "<Figure size 864x864 with 0 Axes>"
      ]
     },
     "metadata": {},
     "output_type": "display_data"
    },
    {
     "data": {
      "image/png": "[encoded data removed]",
      "text/plain": [
       "<Figure size 432x432 with 3 Axes>"
      ]
     },
     "metadata": {
      "needs_background": "light"
     },
     "output_type": "display_data"
    }
   ],
   "source": [
    "#Jointplot between Albumin and Albumin_and_Globulin_Ratio\n",
    "plt.figure(figsize=(12,12))\n",
    "sns.jointplot(\"Albumin\", \"Albumin_and_Globulin_Ratio\", data=data, kind=\"reg\")"
   ]
  },
  {
   "cell_type": "markdown",
   "id": "774b696d",
   "metadata": {},
   "source": [
    "Based on the correlative pair plots, we find some interesting results directly.\n",
    "\n",
    "-Positive correlations:\n",
    "\n",
    "Total Bilirubin and Direct Bilirubin (vice-versa)\n",
    "\n",
    "Alamine Aminotransferase and Aspartate Aminotransferase (vice-versa)\n",
    "\n",
    "Total Protein and Albumin (vice-versa)\n",
    "\n",
    "Albumin and Globulin Ratio and Albumin (vice-versa)"
   ]
  },
  {
   "cell_type": "markdown",
   "id": "1756c7b6",
   "metadata": {},
   "source": [
    "# Correlation\n",
    "A correlation matrix is a handy way to calculate the pairwise correlation coefficients between two or more (numeric) variables. The Pandas data frame has this functionality built-in to its corr() method. Thus, the top (or bottom, depending on your preferences) of every correlation matrix is redundant. The correlation between each variable and itself is 1.0, hence the diagonal."
   ]
  },
  {
   "cell_type": "code",
   "execution_count": 853,
   "id": "692b0628",
   "metadata": {},
   "outputs": [
    {
     "data": {
      "text/html": [
       "<style  type=\"text/css\" >\n",
       "#T_5c18b_row0_col0,#T_5c18b_row1_col1,#T_5c18b_row2_col2,#T_5c18b_row3_col3,#T_5c18b_row4_col4,#T_5c18b_row5_col5,#T_5c18b_row6_col6,#T_5c18b_row7_col7,#T_5c18b_row8_col8,#T_5c18b_row9_col9,#T_5c18b_row10_col10{\n",
       "            background-color:  #67000d;\n",
       "            color:  #f1f1f1;\n",
       "        }#T_5c18b_row0_col1,#T_5c18b_row1_col10,#T_5c18b_row4_col7{\n",
       "            background-color:  #fedccd;\n",
       "            color:  #000000;\n",
       "        }#T_5c18b_row0_col2{\n",
       "            background-color:  #fdccb8;\n",
       "            color:  #000000;\n",
       "        }#T_5c18b_row0_col3{\n",
       "            background-color:  #fdc9b3;\n",
       "            color:  #000000;\n",
       "        }#T_5c18b_row0_col4,#T_5c18b_row1_col2{\n",
       "            background-color:  #fcb99f;\n",
       "            color:  #000000;\n",
       "        }#T_5c18b_row0_col5,#T_5c18b_row9_col6{\n",
       "            background-color:  #feeae0;\n",
       "            color:  #000000;\n",
       "        }#T_5c18b_row0_col6,#T_5c18b_row8_col5{\n",
       "            background-color:  #fee2d5;\n",
       "            color:  #000000;\n",
       "        }#T_5c18b_row0_col7,#T_5c18b_row0_col8,#T_5c18b_row3_col10,#T_5c18b_row4_col9,#T_5c18b_row8_col0,#T_5c18b_row8_col1,#T_5c18b_row8_col2,#T_5c18b_row9_col4,#T_5c18b_row10_col2,#T_5c18b_row10_col3,#T_5c18b_row10_col5,#T_5c18b_row10_col6{\n",
       "            background-color:  #fff5f0;\n",
       "            color:  #000000;\n",
       "        }#T_5c18b_row0_col9,#T_5c18b_row8_col3{\n",
       "            background-color:  #fff2ec;\n",
       "            color:  #000000;\n",
       "        }#T_5c18b_row0_col10,#T_5c18b_row1_col7{\n",
       "            background-color:  #fee6da;\n",
       "            color:  #000000;\n",
       "        }#T_5c18b_row1_col0{\n",
       "            background-color:  #fcb89e;\n",
       "            color:  #000000;\n",
       "        }#T_5c18b_row1_col3{\n",
       "            background-color:  #fcb095;\n",
       "            color:  #000000;\n",
       "        }#T_5c18b_row1_col4{\n",
       "            background-color:  #fdd2bf;\n",
       "            color:  #000000;\n",
       "        }#T_5c18b_row1_col5{\n",
       "            background-color:  #fdc6b0;\n",
       "            color:  #000000;\n",
       "        }#T_5c18b_row1_col6,#T_5c18b_row6_col0,#T_5c18b_row7_col3{\n",
       "            background-color:  #fdcab5;\n",
       "            color:  #000000;\n",
       "        }#T_5c18b_row1_col8{\n",
       "            background-color:  #fedbcc;\n",
       "            color:  #000000;\n",
       "        }#T_5c18b_row1_col9,#T_5c18b_row5_col9{\n",
       "            background-color:  #fdcebb;\n",
       "            color:  #000000;\n",
       "        }#T_5c18b_row2_col0,#T_5c18b_row3_col0{\n",
       "            background-color:  #fcc4ad;\n",
       "            color:  #000000;\n",
       "        }#T_5c18b_row2_col1,#T_5c18b_row7_col4{\n",
       "            background-color:  #fdd4c2;\n",
       "            color:  #000000;\n",
       "        }#T_5c18b_row2_col3{\n",
       "            background-color:  #980c13;\n",
       "            color:  #f1f1f1;\n",
       "        }#T_5c18b_row2_col4,#T_5c18b_row3_col6{\n",
       "            background-color:  #fc9879;\n",
       "            color:  #000000;\n",
       "        }#T_5c18b_row2_col5,#T_5c18b_row6_col4{\n",
       "            background-color:  #fca285;\n",
       "            color:  #000000;\n",
       "        }#T_5c18b_row2_col6,#T_5c18b_row9_col10{\n",
       "            background-color:  #fc9e80;\n",
       "            color:  #000000;\n",
       "        }#T_5c18b_row2_col7,#T_5c18b_row6_col1{\n",
       "            background-color:  #fdd7c6;\n",
       "            color:  #000000;\n",
       "        }#T_5c18b_row2_col8{\n",
       "            background-color:  #ffefe8;\n",
       "            color:  #000000;\n",
       "        }#T_5c18b_row2_col9,#T_5c18b_row2_col10{\n",
       "            background-color:  #fff2eb;\n",
       "            color:  #000000;\n",
       "        }#T_5c18b_row3_col1,#T_5c18b_row7_col2{\n",
       "            background-color:  #fdd1be;\n",
       "            color:  #000000;\n",
       "        }#T_5c18b_row3_col2{\n",
       "            background-color:  #9a0c14;\n",
       "            color:  #f1f1f1;\n",
       "        }#T_5c18b_row3_col4,#T_5c18b_row7_col9{\n",
       "            background-color:  #fc9070;\n",
       "            color:  #000000;\n",
       "        }#T_5c18b_row3_col5{\n",
       "            background-color:  #fc9d7f;\n",
       "            color:  #000000;\n",
       "        }#T_5c18b_row3_col7,#T_5c18b_row5_col1{\n",
       "            background-color:  #fdd5c4;\n",
       "            color:  #000000;\n",
       "        }#T_5c18b_row3_col8{\n",
       "            background-color:  #fff0e8;\n",
       "            color:  #000000;\n",
       "        }#T_5c18b_row3_col9{\n",
       "            background-color:  #fff0e9;\n",
       "            color:  #000000;\n",
       "        }#T_5c18b_row4_col0{\n",
       "            background-color:  #fcb296;\n",
       "            color:  #000000;\n",
       "        }#T_5c18b_row4_col1{\n",
       "            background-color:  #feeae1;\n",
       "            color:  #000000;\n",
       "        }#T_5c18b_row4_col2{\n",
       "            background-color:  #fc997a;\n",
       "            color:  #000000;\n",
       "        }#T_5c18b_row4_col3,#T_5c18b_row5_col3{\n",
       "            background-color:  #fc8e6e;\n",
       "            color:  #000000;\n",
       "        }#T_5c18b_row4_col5{\n",
       "            background-color:  #fcbca2;\n",
       "            color:  #000000;\n",
       "        }#T_5c18b_row4_col6{\n",
       "            background-color:  #fcb398;\n",
       "            color:  #000000;\n",
       "        }#T_5c18b_row4_col8,#T_5c18b_row6_col10,#T_5c18b_row9_col1{\n",
       "            background-color:  #fee8dd;\n",
       "            color:  #000000;\n",
       "        }#T_5c18b_row4_col10{\n",
       "            background-color:  #ffede5;\n",
       "            color:  #000000;\n",
       "        }#T_5c18b_row5_col0,#T_5c18b_row6_col7,#T_5c18b_row6_col8{\n",
       "            background-color:  #fedaca;\n",
       "            color:  #000000;\n",
       "        }#T_5c18b_row5_col2,#T_5c18b_row9_col7{\n",
       "            background-color:  #fc9777;\n",
       "            color:  #000000;\n",
       "        }#T_5c18b_row5_col4{\n",
       "            background-color:  #fcad90;\n",
       "            color:  #000000;\n",
       "        }#T_5c18b_row5_col6,#T_5c18b_row8_col7{\n",
       "            background-color:  #b61319;\n",
       "            color:  #f1f1f1;\n",
       "        }#T_5c18b_row5_col7,#T_5c18b_row9_col5{\n",
       "            background-color:  #fedecf;\n",
       "            color:  #000000;\n",
       "        }#T_5c18b_row5_col8{\n",
       "            background-color:  #fdcdb9;\n",
       "            color:  #000000;\n",
       "        }#T_5c18b_row5_col10{\n",
       "            background-color:  #fee9df;\n",
       "            color:  #000000;\n",
       "        }#T_5c18b_row6_col2{\n",
       "            background-color:  #fc9272;\n",
       "            color:  #000000;\n",
       "        }#T_5c18b_row6_col3{\n",
       "            background-color:  #fc8767;\n",
       "            color:  #000000;\n",
       "        }#T_5c18b_row6_col5{\n",
       "            background-color:  #b51318;\n",
       "            color:  #f1f1f1;\n",
       "        }#T_5c18b_row6_col9{\n",
       "            background-color:  #fedfd0;\n",
       "            color:  #000000;\n",
       "        }#T_5c18b_row7_col0,#T_5c18b_row8_col4,#T_5c18b_row8_col6{\n",
       "            background-color:  #ffece3;\n",
       "            color:  #000000;\n",
       "        }#T_5c18b_row7_col1{\n",
       "            background-color:  #fff4ef;\n",
       "            color:  #000000;\n",
       "        }#T_5c18b_row7_col5{\n",
       "            background-color:  #fee3d7;\n",
       "            color:  #000000;\n",
       "        }#T_5c18b_row7_col6{\n",
       "            background-color:  #fee3d6;\n",
       "            color:  #000000;\n",
       "        }#T_5c18b_row7_col8{\n",
       "            background-color:  #b21218;\n",
       "            color:  #f1f1f1;\n",
       "        }#T_5c18b_row7_col10{\n",
       "            background-color:  #fcc1a8;\n",
       "            color:  #000000;\n",
       "        }#T_5c18b_row8_col9{\n",
       "            background-color:  #cc191e;\n",
       "            color:  #f1f1f1;\n",
       "        }#T_5c18b_row8_col10{\n",
       "            background-color:  #fca082;\n",
       "            color:  #000000;\n",
       "        }#T_5c18b_row9_col0{\n",
       "            background-color:  #ffeee6;\n",
       "            color:  #000000;\n",
       "        }#T_5c18b_row9_col2,#T_5c18b_row10_col1{\n",
       "            background-color:  #fff3ed;\n",
       "            color:  #000000;\n",
       "        }#T_5c18b_row9_col3,#T_5c18b_row10_col4{\n",
       "            background-color:  #ffeee7;\n",
       "            color:  #000000;\n",
       "        }#T_5c18b_row9_col8{\n",
       "            background-color:  #ca181d;\n",
       "            color:  #f1f1f1;\n",
       "        }#T_5c18b_row10_col0{\n",
       "            background-color:  #fee4d8;\n",
       "            color:  #000000;\n",
       "        }#T_5c18b_row10_col7{\n",
       "            background-color:  #fdcbb6;\n",
       "            color:  #000000;\n",
       "        }#T_5c18b_row10_col8{\n",
       "            background-color:  #fc9c7d;\n",
       "            color:  #000000;\n",
       "        }#T_5c18b_row10_col9{\n",
       "            background-color:  #fca183;\n",
       "            color:  #000000;\n",
       "        }</style><table id=\"T_5c18b_\" ><thead>    <tr>        <th class=\"blank level0\" ></th>        <th class=\"col_heading level0 col0\" >Age</th>        <th class=\"col_heading level0 col1\" >Gender</th>        <th class=\"col_heading level0 col2\" >Total_Bilirubin</th>        <th class=\"col_heading level0 col3\" >Direct_Bilirubin</th>        <th class=\"col_heading level0 col4\" >Alkaline_Phosphotase</th>        <th class=\"col_heading level0 col5\" >Alamine_Aminotransferase</th>        <th class=\"col_heading level0 col6\" >Aspartate_Aminotransferase</th>        <th class=\"col_heading level0 col7\" >Total_Protiens</th>        <th class=\"col_heading level0 col8\" >Albumin</th>        <th class=\"col_heading level0 col9\" >Albumin_and_Globulin_Ratio</th>        <th class=\"col_heading level0 col10\" >Dataset</th>    </tr></thead><tbody>\n",
       "                <tr>\n",
       "                        <th id=\"T_5c18b_level0_row0\" class=\"row_heading level0 row0\" >Age</th>\n",
       "                        <td id=\"T_5c18b_row0_col0\" class=\"data row0 col0\" >1.000000</td>\n",
       "                        <td id=\"T_5c18b_row0_col1\" class=\"data row0 col1\" >0.058237</td>\n",
       "                        <td id=\"T_5c18b_row0_col2\" class=\"data row0 col2\" >0.011500</td>\n",
       "                        <td id=\"T_5c18b_row0_col3\" class=\"data row0 col3\" >0.007050</td>\n",
       "                        <td id=\"T_5c18b_row0_col4\" class=\"data row0 col4\" >0.081673</td>\n",
       "                        <td id=\"T_5c18b_row0_col5\" class=\"data row0 col5\" >-0.083383</td>\n",
       "                        <td id=\"T_5c18b_row0_col6\" class=\"data row0 col6\" >-0.016753</td>\n",
       "                        <td id=\"T_5c18b_row0_col7\" class=\"data row0 col7\" >-0.197052</td>\n",
       "                        <td id=\"T_5c18b_row0_col8\" class=\"data row0 col8\" >-0.271170</td>\n",
       "                        <td id=\"T_5c18b_row0_col9\" class=\"data row0 col9\" >-0.215633</td>\n",
       "                        <td id=\"T_5c18b_row0_col10\" class=\"data row0 col10\" >-0.138093</td>\n",
       "            </tr>\n",
       "            <tr>\n",
       "                        <th id=\"T_5c18b_level0_row1\" class=\"row_heading level0 row1\" >Gender</th>\n",
       "                        <td id=\"T_5c18b_row1_col0\" class=\"data row1 col0\" >0.058237</td>\n",
       "                        <td id=\"T_5c18b_row1_col1\" class=\"data row1 col1\" >1.000000</td>\n",
       "                        <td id=\"T_5c18b_row1_col2\" class=\"data row1 col2\" >0.090298</td>\n",
       "                        <td id=\"T_5c18b_row1_col3\" class=\"data row1 col3\" >0.101730</td>\n",
       "                        <td id=\"T_5c18b_row1_col4\" class=\"data row1 col4\" >-0.023014</td>\n",
       "                        <td id=\"T_5c18b_row1_col5\" class=\"data row1 col5\" >0.084317</td>\n",
       "                        <td id=\"T_5c18b_row1_col6\" class=\"data row1 col6\" >0.081497</td>\n",
       "                        <td id=\"T_5c18b_row1_col7\" class=\"data row1 col7\" >-0.085895</td>\n",
       "                        <td id=\"T_5c18b_row1_col8\" class=\"data row1 col8\" >-0.091369</td>\n",
       "                        <td id=\"T_5c18b_row1_col9\" class=\"data row1 col9\" >-0.005566</td>\n",
       "                        <td id=\"T_5c18b_row1_col10\" class=\"data row1 col10\" >-0.078501</td>\n",
       "            </tr>\n",
       "            <tr>\n",
       "                        <th id=\"T_5c18b_level0_row2\" class=\"row_heading level0 row2\" >Total_Bilirubin</th>\n",
       "                        <td id=\"T_5c18b_row2_col0\" class=\"data row2 col0\" >0.011500</td>\n",
       "                        <td id=\"T_5c18b_row2_col1\" class=\"data row2 col1\" >0.090298</td>\n",
       "                        <td id=\"T_5c18b_row2_col2\" class=\"data row2 col2\" >1.000000</td>\n",
       "                        <td id=\"T_5c18b_row2_col3\" class=\"data row2 col3\" >0.874116</td>\n",
       "                        <td id=\"T_5c18b_row2_col4\" class=\"data row2 col4\" >0.206239</td>\n",
       "                        <td id=\"T_5c18b_row2_col5\" class=\"data row2 col5\" >0.217471</td>\n",
       "                        <td id=\"T_5c18b_row2_col6\" class=\"data row2 col6\" >0.238678</td>\n",
       "                        <td id=\"T_5c18b_row2_col7\" class=\"data row2 col7\" >-0.008588</td>\n",
       "                        <td id=\"T_5c18b_row2_col8\" class=\"data row2 col8\" >-0.224124</td>\n",
       "                        <td id=\"T_5c18b_row2_col9\" class=\"data row2 col9\" >-0.207621</td>\n",
       "                        <td id=\"T_5c18b_row2_col10\" class=\"data row2 col10\" >-0.224430</td>\n",
       "            </tr>\n",
       "            <tr>\n",
       "                        <th id=\"T_5c18b_level0_row3\" class=\"row_heading level0 row3\" >Direct_Bilirubin</th>\n",
       "                        <td id=\"T_5c18b_row3_col0\" class=\"data row3 col0\" >0.007050</td>\n",
       "                        <td id=\"T_5c18b_row3_col1\" class=\"data row3 col1\" >0.101730</td>\n",
       "                        <td id=\"T_5c18b_row3_col2\" class=\"data row3 col2\" >0.874116</td>\n",
       "                        <td id=\"T_5c18b_row3_col3\" class=\"data row3 col3\" >1.000000</td>\n",
       "                        <td id=\"T_5c18b_row3_col4\" class=\"data row3 col4\" >0.234609</td>\n",
       "                        <td id=\"T_5c18b_row3_col5\" class=\"data row3 col5\" >0.237450</td>\n",
       "                        <td id=\"T_5c18b_row3_col6\" class=\"data row3 col6\" >0.258489</td>\n",
       "                        <td id=\"T_5c18b_row3_col7\" class=\"data row3 col7\" >-0.000875</td>\n",
       "                        <td id=\"T_5c18b_row3_col8\" class=\"data row3 col8\" >-0.230751</td>\n",
       "                        <td id=\"T_5c18b_row3_col9\" class=\"data row3 col9\" >-0.201386</td>\n",
       "                        <td id=\"T_5c18b_row3_col10\" class=\"data row3 col10\" >-0.250666</td>\n",
       "            </tr>\n",
       "            <tr>\n",
       "                        <th id=\"T_5c18b_level0_row4\" class=\"row_heading level0 row4\" >Alkaline_Phosphotase</th>\n",
       "                        <td id=\"T_5c18b_row4_col0\" class=\"data row4 col0\" >0.081673</td>\n",
       "                        <td id=\"T_5c18b_row4_col1\" class=\"data row4 col1\" >-0.023014</td>\n",
       "                        <td id=\"T_5c18b_row4_col2\" class=\"data row4 col2\" >0.206239</td>\n",
       "                        <td id=\"T_5c18b_row4_col3\" class=\"data row4 col3\" >0.234609</td>\n",
       "                        <td id=\"T_5c18b_row4_col4\" class=\"data row4 col4\" >1.000000</td>\n",
       "                        <td id=\"T_5c18b_row4_col5\" class=\"data row4 col5\" >0.126830</td>\n",
       "                        <td id=\"T_5c18b_row4_col6\" class=\"data row4 col6\" >0.167230</td>\n",
       "                        <td id=\"T_5c18b_row4_col7\" class=\"data row4 col7\" >-0.030048</td>\n",
       "                        <td id=\"T_5c18b_row4_col8\" class=\"data row4 col8\" >-0.168318</td>\n",
       "                        <td id=\"T_5c18b_row4_col9\" class=\"data row4 col9\" >-0.236028</td>\n",
       "                        <td id=\"T_5c18b_row4_col10\" class=\"data row4 col10\" >-0.187560</td>\n",
       "            </tr>\n",
       "            <tr>\n",
       "                        <th id=\"T_5c18b_level0_row5\" class=\"row_heading level0 row5\" >Alamine_Aminotransferase</th>\n",
       "                        <td id=\"T_5c18b_row5_col0\" class=\"data row5 col0\" >-0.083383</td>\n",
       "                        <td id=\"T_5c18b_row5_col1\" class=\"data row5 col1\" >0.084317</td>\n",
       "                        <td id=\"T_5c18b_row5_col2\" class=\"data row5 col2\" >0.217471</td>\n",
       "                        <td id=\"T_5c18b_row5_col3\" class=\"data row5 col3\" >0.237450</td>\n",
       "                        <td id=\"T_5c18b_row5_col4\" class=\"data row5 col4\" >0.126830</td>\n",
       "                        <td id=\"T_5c18b_row5_col5\" class=\"data row5 col5\" >1.000000</td>\n",
       "                        <td id=\"T_5c18b_row5_col6\" class=\"data row5 col6\" >0.791857</td>\n",
       "                        <td id=\"T_5c18b_row5_col7\" class=\"data row5 col7\" >-0.035193</td>\n",
       "                        <td id=\"T_5c18b_row5_col8\" class=\"data row5 col8\" >-0.027973</td>\n",
       "                        <td id=\"T_5c18b_row5_col9\" class=\"data row5 col9\" >-0.006516</td>\n",
       "                        <td id=\"T_5c18b_row5_col10\" class=\"data row5 col10\" >-0.161917</td>\n",
       "            </tr>\n",
       "            <tr>\n",
       "                        <th id=\"T_5c18b_level0_row6\" class=\"row_heading level0 row6\" >Aspartate_Aminotransferase</th>\n",
       "                        <td id=\"T_5c18b_row6_col0\" class=\"data row6 col0\" >-0.016753</td>\n",
       "                        <td id=\"T_5c18b_row6_col1\" class=\"data row6 col1\" >0.081497</td>\n",
       "                        <td id=\"T_5c18b_row6_col2\" class=\"data row6 col2\" >0.238678</td>\n",
       "                        <td id=\"T_5c18b_row6_col3\" class=\"data row6 col3\" >0.258489</td>\n",
       "                        <td id=\"T_5c18b_row6_col4\" class=\"data row6 col4\" >0.167230</td>\n",
       "                        <td id=\"T_5c18b_row6_col5\" class=\"data row6 col5\" >0.791857</td>\n",
       "                        <td id=\"T_5c18b_row6_col6\" class=\"data row6 col6\" >1.000000</td>\n",
       "                        <td id=\"T_5c18b_row6_col7\" class=\"data row6 col7\" >-0.022000</td>\n",
       "                        <td id=\"T_5c18b_row6_col8\" class=\"data row6 col8\" >-0.085180</td>\n",
       "                        <td id=\"T_5c18b_row6_col9\" class=\"data row6 col9\" >-0.072877</td>\n",
       "                        <td id=\"T_5c18b_row6_col10\" class=\"data row6 col10\" >-0.151101</td>\n",
       "            </tr>\n",
       "            <tr>\n",
       "                        <th id=\"T_5c18b_level0_row7\" class=\"row_heading level0 row7\" >Total_Protiens</th>\n",
       "                        <td id=\"T_5c18b_row7_col0\" class=\"data row7 col0\" >-0.197052</td>\n",
       "                        <td id=\"T_5c18b_row7_col1\" class=\"data row7 col1\" >-0.085895</td>\n",
       "                        <td id=\"T_5c18b_row7_col2\" class=\"data row7 col2\" >-0.008588</td>\n",
       "                        <td id=\"T_5c18b_row7_col3\" class=\"data row7 col3\" >-0.000875</td>\n",
       "                        <td id=\"T_5c18b_row7_col4\" class=\"data row7 col4\" >-0.030048</td>\n",
       "                        <td id=\"T_5c18b_row7_col5\" class=\"data row7 col5\" >-0.035193</td>\n",
       "                        <td id=\"T_5c18b_row7_col6\" class=\"data row7 col6\" >-0.022000</td>\n",
       "                        <td id=\"T_5c18b_row7_col7\" class=\"data row7 col7\" >1.000000</td>\n",
       "                        <td id=\"T_5c18b_row7_col8\" class=\"data row7 col8\" >0.784731</td>\n",
       "                        <td id=\"T_5c18b_row7_col9\" class=\"data row7 col9\" >0.233576</td>\n",
       "                        <td id=\"T_5c18b_row7_col10\" class=\"data row7 col10\" >0.037794</td>\n",
       "            </tr>\n",
       "            <tr>\n",
       "                        <th id=\"T_5c18b_level0_row8\" class=\"row_heading level0 row8\" >Albumin</th>\n",
       "                        <td id=\"T_5c18b_row8_col0\" class=\"data row8 col0\" >-0.271170</td>\n",
       "                        <td id=\"T_5c18b_row8_col1\" class=\"data row8 col1\" >-0.091369</td>\n",
       "                        <td id=\"T_5c18b_row8_col2\" class=\"data row8 col2\" >-0.224124</td>\n",
       "                        <td id=\"T_5c18b_row8_col3\" class=\"data row8 col3\" >-0.230751</td>\n",
       "                        <td id=\"T_5c18b_row8_col4\" class=\"data row8 col4\" >-0.168318</td>\n",
       "                        <td id=\"T_5c18b_row8_col5\" class=\"data row8 col5\" >-0.027973</td>\n",
       "                        <td id=\"T_5c18b_row8_col6\" class=\"data row8 col6\" >-0.085180</td>\n",
       "                        <td id=\"T_5c18b_row8_col7\" class=\"data row8 col7\" >0.784731</td>\n",
       "                        <td id=\"T_5c18b_row8_col8\" class=\"data row8 col8\" >1.000000</td>\n",
       "                        <td id=\"T_5c18b_row8_col9\" class=\"data row8 col9\" >0.684087</td>\n",
       "                        <td id=\"T_5c18b_row8_col10\" class=\"data row8 col10\" >0.166835</td>\n",
       "            </tr>\n",
       "            <tr>\n",
       "                        <th id=\"T_5c18b_level0_row9\" class=\"row_heading level0 row9\" >Albumin_and_Globulin_Ratio</th>\n",
       "                        <td id=\"T_5c18b_row9_col0\" class=\"data row9 col0\" >-0.215633</td>\n",
       "                        <td id=\"T_5c18b_row9_col1\" class=\"data row9 col1\" >-0.005566</td>\n",
       "                        <td id=\"T_5c18b_row9_col2\" class=\"data row9 col2\" >-0.207621</td>\n",
       "                        <td id=\"T_5c18b_row9_col3\" class=\"data row9 col3\" >-0.201386</td>\n",
       "                        <td id=\"T_5c18b_row9_col4\" class=\"data row9 col4\" >-0.236028</td>\n",
       "                        <td id=\"T_5c18b_row9_col5\" class=\"data row9 col5\" >-0.006516</td>\n",
       "                        <td id=\"T_5c18b_row9_col6\" class=\"data row9 col6\" >-0.072877</td>\n",
       "                        <td id=\"T_5c18b_row9_col7\" class=\"data row9 col7\" >0.233576</td>\n",
       "                        <td id=\"T_5c18b_row9_col8\" class=\"data row9 col8\" >0.684087</td>\n",
       "                        <td id=\"T_5c18b_row9_col9\" class=\"data row9 col9\" >1.000000</td>\n",
       "                        <td id=\"T_5c18b_row9_col10\" class=\"data row9 col10\" >0.170523</td>\n",
       "            </tr>\n",
       "            <tr>\n",
       "                        <th id=\"T_5c18b_level0_row10\" class=\"row_heading level0 row10\" >Dataset</th>\n",
       "                        <td id=\"T_5c18b_row10_col0\" class=\"data row10 col0\" >-0.138093</td>\n",
       "                        <td id=\"T_5c18b_row10_col1\" class=\"data row10 col1\" >-0.078501</td>\n",
       "                        <td id=\"T_5c18b_row10_col2\" class=\"data row10 col2\" >-0.224430</td>\n",
       "                        <td id=\"T_5c18b_row10_col3\" class=\"data row10 col3\" >-0.250666</td>\n",
       "                        <td id=\"T_5c18b_row10_col4\" class=\"data row10 col4\" >-0.187560</td>\n",
       "                        <td id=\"T_5c18b_row10_col5\" class=\"data row10 col5\" >-0.161917</td>\n",
       "                        <td id=\"T_5c18b_row10_col6\" class=\"data row10 col6\" >-0.151101</td>\n",
       "                        <td id=\"T_5c18b_row10_col7\" class=\"data row10 col7\" >0.037794</td>\n",
       "                        <td id=\"T_5c18b_row10_col8\" class=\"data row10 col8\" >0.166835</td>\n",
       "                        <td id=\"T_5c18b_row10_col9\" class=\"data row10 col9\" >0.170523</td>\n",
       "                        <td id=\"T_5c18b_row10_col10\" class=\"data row10 col10\" >1.000000</td>\n",
       "            </tr>\n",
       "    </tbody></table>"
      ],
      "text/plain": [
       "<pandas.io.formats.style.Styler at 0x1f1926b6c10>"
      ]
     },
     "execution_count": 853,
     "metadata": {},
     "output_type": "execute_result"
    }
   ],
   "source": [
    "data.corr().style.background_gradient(cmap='Reds')"
   ]
  },
  {
   "cell_type": "markdown",
   "id": "2affa648",
   "metadata": {},
   "source": [
    "The above correlation heatmap demonstrates strong positive (closer to 1) correlation between Total_Bilirubin and Direct_bilirubin, Alamine_Aminotransferase\tand Aspartate_Aminotransferase, Total_Protiens and Albumin, Albumin and Albumin_and_Globulin_Ratio."
   ]
  },
  {
   "cell_type": "markdown",
   "id": "98f9541a",
   "metadata": {},
   "source": [
    "# Visualizing the relation of all the columns with the outcome(whether a person is liver patient or not)."
   ]
  },
  {
   "cell_type": "code",
   "execution_count": 854,
   "id": "e9bd3235",
   "metadata": {},
   "outputs": [
    {
     "data": {
      "text/plain": [
       "Text(0.5, 0, 'Total_Bilirubin')"
      ]
     },
     "execution_count": 854,
     "metadata": {},
     "output_type": "execute_result"
    },
    {
     "data": {
      "image/png": "[encoded data removed]",
      "text/plain": [
       "<Figure size 576x396 with 1 Axes>"
      ]
     },
     "metadata": {},
     "output_type": "display_data"
    }
   ],
   "source": [
    "\n",
    "plt.style.use(\"seaborn\")\n",
    "\n",
    "\n",
    "# Histplot between Total Bilirubin and outcome.\n",
    "ax = sns.histplot(x = data[\"Total_Bilirubin\"], hue = data[\"Dataset\"], palette=\"ocean\", kde=True)\n",
    "ax.set_xlabel(\"Total_Bilirubin\",fontsize=15)\n",
    "\n",
    "\n"
   ]
  },
  {
   "cell_type": "code",
   "execution_count": 855,
   "id": "2ee04853",
   "metadata": {},
   "outputs": [
    {
     "data": {
      "text/plain": [
       "Text(0.5, 0, 'Direct_Bilirubin')"
      ]
     },
     "execution_count": 855,
     "metadata": {},
     "output_type": "execute_result"
    },
    {
     "data": {
      "image/png": "[encoded data removed]",
      "text/plain": [
       "<Figure size 576x396 with 1 Axes>"
      ]
     },
     "metadata": {},
     "output_type": "display_data"
    }
   ],
   "source": [
    "\n",
    "# Histplot between Direct_Bilirubin and outcome.\n",
    "ax = sns.histplot(x = data[\"Direct_Bilirubin\"], hue = data[\"Dataset\"], palette=\"ocean\", kde=True)\n",
    "ax.set_xlabel(\"Direct_Bilirubin\",fontsize=15)\n",
    "\n",
    "\n",
    "\n"
   ]
  },
  {
   "cell_type": "code",
   "execution_count": 856,
   "id": "5fa02938",
   "metadata": {},
   "outputs": [
    {
     "data": {
      "text/plain": [
       "Text(0.5, 0, 'Alkaline_Phosphotase')"
      ]
     },
     "execution_count": 856,
     "metadata": {},
     "output_type": "execute_result"
    },
    {
     "data": {
      "image/png": "[encoded data removed]",
      "text/plain": [
       "<Figure size 576x396 with 1 Axes>"
      ]
     },
     "metadata": {},
     "output_type": "display_data"
    }
   ],
   "source": [
    "# Histplot between Alkaline_Phosphotase and outcome.\n",
    "ax = sns.histplot(x = data[\"Alkaline_Phosphotase\"], hue = data[\"Dataset\"], palette=\"cool\", kde=True)\n",
    "ax.set_xlabel(\"Alkaline_Phosphotase\",fontsize=15)\n",
    "\n",
    "\n",
    "\n"
   ]
  },
  {
   "cell_type": "code",
   "execution_count": 857,
   "id": "ceed99d8",
   "metadata": {},
   "outputs": [
    {
     "data": {
      "text/plain": [
       "Text(0.5, 0, 'Alamine_Aminotransferase')"
      ]
     },
     "execution_count": 857,
     "metadata": {},
     "output_type": "execute_result"
    },
    {
     "data": {
      "image/png": "[encoded data removed]",
      "text/plain": [
       "<Figure size 576x396 with 1 Axes>"
      ]
     },
     "metadata": {},
     "output_type": "display_data"
    }
   ],
   "source": [
    "# Histplot between Alamine_Aminotransferase and outcome.\n",
    "ax = sns.histplot(x = data[\"Alamine_Aminotransferase\"], hue = data[\"Dataset\"], palette=\"pink\", kde=True)\n",
    "ax.set_xlabel(\"Alamine_Aminotransferase\",fontsize=15)\n",
    "\n",
    "\n"
   ]
  },
  {
   "cell_type": "code",
   "execution_count": 858,
   "id": "e9a64962",
   "metadata": {},
   "outputs": [
    {
     "data": {
      "text/plain": [
       "Text(0.5, 0, 'Aspartate_Aminotransferase')"
      ]
     },
     "execution_count": 858,
     "metadata": {},
     "output_type": "execute_result"
    },
    {
     "data": {
      "image/png": "[encoded data removed]",
      "text/plain": [
       "<Figure size 576x396 with 1 Axes>"
      ]
     },
     "metadata": {},
     "output_type": "display_data"
    }
   ],
   "source": [
    "# Histplot between Aspartate_Aminotransferase and outcome.\n",
    "ax = sns.histplot(x = data[\"Aspartate_Aminotransferase\"], hue = data[\"Dataset\"], palette=\"cool\", kde=True)\n",
    "ax.set_xlabel(\"Aspartate_Aminotransferase\",fontsize=15)\n",
    "\n",
    "\n",
    "\n"
   ]
  },
  {
   "cell_type": "code",
   "execution_count": 859,
   "id": "d41bcfc5",
   "metadata": {},
   "outputs": [
    {
     "data": {
      "text/plain": [
       "Text(0.5, 0, 'Total_Protiens')"
      ]
     },
     "execution_count": 859,
     "metadata": {},
     "output_type": "execute_result"
    },
    {
     "data": {
      "image/png": "[encoded data removed]",
      "text/plain": [
       "<Figure size 576x396 with 1 Axes>"
      ]
     },
     "metadata": {},
     "output_type": "display_data"
    }
   ],
   "source": [
    "# Histplot between Total_Protiens and outcome.\n",
    "ax = sns.histplot(x = data[\"Total_Protiens\"], hue = data[\"Dataset\"], palette=\"pink\", kde=True)\n",
    "ax.set_xlabel(\"Total_Protiens\",fontsize=15)\n",
    "\n",
    "\n"
   ]
  },
  {
   "cell_type": "code",
   "execution_count": 860,
   "id": "382609cc",
   "metadata": {},
   "outputs": [
    {
     "data": {
      "text/plain": [
       "Text(0.5, 0, 'Albumin')"
      ]
     },
     "execution_count": 860,
     "metadata": {},
     "output_type": "execute_result"
    },
    {
     "data": {
      "image/png": "[encoded data removed]",
      "text/plain": [
       "<Figure size 576x396 with 1 Axes>"
      ]
     },
     "metadata": {},
     "output_type": "display_data"
    }
   ],
   "source": [
    "# Histplot between Albumin and outcome.\n",
    "ax = sns.histplot(x = data[\"Albumin\"], hue = data[\"Dataset\"], palette=\"viridis\", kde=True)\n",
    "ax.set_xlabel(\"Albumin\",fontsize=15)\n",
    "\n",
    "\n"
   ]
  },
  {
   "cell_type": "code",
   "execution_count": 861,
   "id": "8a0e8800",
   "metadata": {},
   "outputs": [
    {
     "data": {
      "image/png": "[encoded data removed]",
      "text/plain": [
       "<Figure size 576x396 with 1 Axes>"
      ]
     },
     "metadata": {},
     "output_type": "display_data"
    }
   ],
   "source": [
    "# Histplot between Albumin_and_Globulin_Ratio and outcome.\n",
    "ax = sns.histplot(x = data[\"Albumin_and_Globulin_Ratio\"], hue = data[\"Dataset\"], palette=\"viridis\", kde=True)\n",
    "ax.set_xlabel(\"Albumin_and_Globulin_Ratio\",fontsize=15);"
   ]
  },
  {
   "cell_type": "markdown",
   "id": "db8f2463",
   "metadata": {},
   "source": [
    "# Visualize the effect of the dataset(with or without disease) based on both Age and Gender."
   ]
  },
  {
   "cell_type": "code",
   "execution_count": 862,
   "id": "58169913",
   "metadata": {},
   "outputs": [
    {
     "name": "stderr",
     "output_type": "stream",
     "text": [
      "C:\\Users\\avina\\anaconda3\\lib\\site-packages\\seaborn\\distributions.py:2557: FutureWarning: `distplot` is a deprecated function and will be removed in a future version. Please adapt your code to use either `displot` (a figure-level function with similar flexibility) or `histplot` (an axes-level function for histograms).\n",
      "  warnings.warn(msg, FutureWarning)\n",
      "C:\\Users\\avina\\anaconda3\\lib\\site-packages\\seaborn\\distributions.py:2557: FutureWarning: `distplot` is a deprecated function and will be removed in a future version. Please adapt your code to use either `displot` (a figure-level function with similar flexibility) or `histplot` (an axes-level function for histograms).\n",
      "  warnings.warn(msg, FutureWarning)\n",
      "C:\\Users\\avina\\anaconda3\\lib\\site-packages\\seaborn\\distributions.py:2557: FutureWarning: `distplot` is a deprecated function and will be removed in a future version. Please adapt your code to use either `displot` (a figure-level function with similar flexibility) or `histplot` (an axes-level function for histograms).\n",
      "  warnings.warn(msg, FutureWarning)\n",
      "C:\\Users\\avina\\anaconda3\\lib\\site-packages\\seaborn\\distributions.py:2557: FutureWarning: `distplot` is a deprecated function and will be removed in a future version. Please adapt your code to use either `displot` (a figure-level function with similar flexibility) or `histplot` (an axes-level function for histograms).\n",
      "  warnings.warn(msg, FutureWarning)\n"
     ]
    },
    {
     "data": {
      "text/plain": [
       "Text(0.5, 1.0, 'Male')"
      ]
     },
     "execution_count": 862,
     "metadata": {},
     "output_type": "execute_result"
    },
    {
     "data": {
      "image/png": "[encoded data removed]",
      "text/plain": [
       "<Figure size 1080x360 with 2 Axes>"
      ]
     },
     "metadata": {},
     "output_type": "display_data"
    }
   ],
   "source": [
    "# Figure configuration\n",
    "fig, axes = plt.subplots(1, 2, figsize=(15, 5))\n",
    "ld = 'Liver Disease'\n",
    "no_ld = 'No Liver Disease'\n",
    "ax = sns.distplot(data[data['Gender'] == 0][data[data['Gender'] == 0]['Dataset'] == 1]['Age'], bins=18, label=ld, ax=axes[0], kde=False, color='blue')\n",
    "ax = sns.distplot(data[data['Gender'] == 0][data[data['Gender'] == 0]['Dataset'] == 2]['Age'], bins=40, label=no_ld, ax=axes[0], kde=False, color='red')\n",
    "ax.legend()\n",
    "ax.set_title('Female')\n",
    "ax.set_ylabel('Counts')\n",
    "ax = sns.distplot(data[data['Gender'] == 1][data[data['Gender'] == 1]['Dataset'] == 1]['Age'], bins=18, label=ld, ax=axes[1], kde=False, color='blue')\n",
    "ax = sns.distplot(data[data['Gender'] == 1][data[data['Gender'] == 1]['Dataset'] == 2]['Age'], bins=40, label=no_ld, ax=axes[1], kde=False, color='red')\n",
    "ax.legend()\n",
    "ax.set_title('Male')"
   ]
  },
  {
   "cell_type": "markdown",
   "id": "18022dc9",
   "metadata": {},
   "source": [
    "# This distribution plot shows some interesting things,\n",
    "\n",
    "1)On average, women tend to have less cases of liver disease than men.\n",
    "\n",
    "2)The greatest number of women without liver disease were about 38 yrs old.\n",
    "\n",
    "3)Girls around the age of 10 had liver disease, this may be a genetic link.\n",
    "\n",
    "4)Men are more prone to liver disease (may be due to alcoholism).\n",
    "\n",
    "5)The greatest number of men without liver diseae were about 38 yrs old.\n",
    "\n",
    "6)Women at age of 48 are more prone to liver diseases.\n",
    "\n",
    "7)Men at age of 30 are more prone to liver diseases."
   ]
  },
  {
   "cell_type": "markdown",
   "id": "2bf40335",
   "metadata": {},
   "source": [
    "# Hypothesis Testing"
   ]
  },
  {
   "cell_type": "code",
   "execution_count": 863,
   "id": "13136e53",
   "metadata": {},
   "outputs": [
    {
     "data": {
      "text/html": [
       "<div>\n",
       "<style scoped>\n",
       "    .dataframe tbody tr th:only-of-type {\n",
       "        vertical-align: middle;\n",
       "    }\n",
       "\n",
       "    .dataframe tbody tr th {\n",
       "        vertical-align: top;\n",
       "    }\n",
       "\n",
       "    .dataframe thead th {\n",
       "        text-align: right;\n",
       "    }\n",
       "</style>\n",
       "<table border=\"1\" class=\"dataframe\">\n",
       "  <thead>\n",
       "    <tr style=\"text-align: right;\">\n",
       "      <th></th>\n",
       "      <th>Age</th>\n",
       "      <th>Gender</th>\n",
       "      <th>Total_Bilirubin</th>\n",
       "      <th>Direct_Bilirubin</th>\n",
       "      <th>Alkaline_Phosphotase</th>\n",
       "      <th>Alamine_Aminotransferase</th>\n",
       "      <th>Aspartate_Aminotransferase</th>\n",
       "      <th>Total_Protiens</th>\n",
       "      <th>Albumin</th>\n",
       "      <th>Albumin_and_Globulin_Ratio</th>\n",
       "      <th>Dataset</th>\n",
       "    </tr>\n",
       "  </thead>\n",
       "  <tbody>\n",
       "    <tr>\n",
       "      <th>0</th>\n",
       "      <td>65</td>\n",
       "      <td>0</td>\n",
       "      <td>0.7</td>\n",
       "      <td>0.1</td>\n",
       "      <td>187</td>\n",
       "      <td>16</td>\n",
       "      <td>18</td>\n",
       "      <td>6.8</td>\n",
       "      <td>3.3</td>\n",
       "      <td>0.90</td>\n",
       "      <td>1</td>\n",
       "    </tr>\n",
       "    <tr>\n",
       "      <th>1</th>\n",
       "      <td>62</td>\n",
       "      <td>1</td>\n",
       "      <td>10.9</td>\n",
       "      <td>5.5</td>\n",
       "      <td>699</td>\n",
       "      <td>64</td>\n",
       "      <td>100</td>\n",
       "      <td>7.5</td>\n",
       "      <td>3.2</td>\n",
       "      <td>0.74</td>\n",
       "      <td>1</td>\n",
       "    </tr>\n",
       "    <tr>\n",
       "      <th>2</th>\n",
       "      <td>62</td>\n",
       "      <td>1</td>\n",
       "      <td>7.3</td>\n",
       "      <td>4.1</td>\n",
       "      <td>490</td>\n",
       "      <td>60</td>\n",
       "      <td>68</td>\n",
       "      <td>7.0</td>\n",
       "      <td>3.3</td>\n",
       "      <td>0.89</td>\n",
       "      <td>1</td>\n",
       "    </tr>\n",
       "    <tr>\n",
       "      <th>3</th>\n",
       "      <td>58</td>\n",
       "      <td>1</td>\n",
       "      <td>1.0</td>\n",
       "      <td>0.4</td>\n",
       "      <td>182</td>\n",
       "      <td>14</td>\n",
       "      <td>20</td>\n",
       "      <td>6.8</td>\n",
       "      <td>3.4</td>\n",
       "      <td>1.00</td>\n",
       "      <td>1</td>\n",
       "    </tr>\n",
       "    <tr>\n",
       "      <th>4</th>\n",
       "      <td>72</td>\n",
       "      <td>1</td>\n",
       "      <td>3.9</td>\n",
       "      <td>2.0</td>\n",
       "      <td>195</td>\n",
       "      <td>27</td>\n",
       "      <td>59</td>\n",
       "      <td>7.3</td>\n",
       "      <td>2.4</td>\n",
       "      <td>0.40</td>\n",
       "      <td>1</td>\n",
       "    </tr>\n",
       "  </tbody>\n",
       "</table>\n",
       "</div>"
      ],
      "text/plain": [
       "   Age  Gender  Total_Bilirubin  Direct_Bilirubin  Alkaline_Phosphotase  \\\n",
       "0   65       0              0.7               0.1                   187   \n",
       "1   62       1             10.9               5.5                   699   \n",
       "2   62       1              7.3               4.1                   490   \n",
       "3   58       1              1.0               0.4                   182   \n",
       "4   72       1              3.9               2.0                   195   \n",
       "\n",
       "   Alamine_Aminotransferase  Aspartate_Aminotransferase  Total_Protiens  \\\n",
       "0                        16                          18             6.8   \n",
       "1                        64                         100             7.5   \n",
       "2                        60                          68             7.0   \n",
       "3                        14                          20             6.8   \n",
       "4                        27                          59             7.3   \n",
       "\n",
       "   Albumin  Albumin_and_Globulin_Ratio  Dataset  \n",
       "0      3.3                        0.90        1  \n",
       "1      3.2                        0.74        1  \n",
       "2      3.3                        0.89        1  \n",
       "3      3.4                        1.00        1  \n",
       "4      2.4                        0.40        1  "
      ]
     },
     "execution_count": 863,
     "metadata": {},
     "output_type": "execute_result"
    }
   ],
   "source": [
    "\n",
    "df_liver_hyp = data\n",
    "df_liver_hyp.head()"
   ]
  },
  {
   "cell_type": "code",
   "execution_count": 864,
   "id": "2826e928",
   "metadata": {},
   "outputs": [
    {
     "data": {
      "text/html": [
       "<div>\n",
       "<style scoped>\n",
       "    .dataframe tbody tr th:only-of-type {\n",
       "        vertical-align: middle;\n",
       "    }\n",
       "\n",
       "    .dataframe tbody tr th {\n",
       "        vertical-align: top;\n",
       "    }\n",
       "\n",
       "    .dataframe thead th {\n",
       "        text-align: right;\n",
       "    }\n",
       "</style>\n",
       "<table border=\"1\" class=\"dataframe\">\n",
       "  <thead>\n",
       "    <tr style=\"text-align: right;\">\n",
       "      <th></th>\n",
       "      <th>Age</th>\n",
       "      <th>Gender</th>\n",
       "      <th>Total_Bilirubin</th>\n",
       "      <th>Direct_Bilirubin</th>\n",
       "      <th>Alkaline_Phosphotase</th>\n",
       "      <th>Alamine_Aminotransferase</th>\n",
       "      <th>Aspartate_Aminotransferase</th>\n",
       "      <th>Total_Protiens</th>\n",
       "      <th>Albumin</th>\n",
       "      <th>Albumin_and_Globulin_Ratio</th>\n",
       "      <th>Dataset</th>\n",
       "      <th>Hypothesis</th>\n",
       "      <th>Result</th>\n",
       "    </tr>\n",
       "  </thead>\n",
       "  <tbody>\n",
       "    <tr>\n",
       "      <th>0</th>\n",
       "      <td>65</td>\n",
       "      <td>0</td>\n",
       "      <td>0.7</td>\n",
       "      <td>0.1</td>\n",
       "      <td>187</td>\n",
       "      <td>16</td>\n",
       "      <td>18</td>\n",
       "      <td>6.8</td>\n",
       "      <td>3.3</td>\n",
       "      <td>0.90</td>\n",
       "      <td>1</td>\n",
       "      <td>1</td>\n",
       "      <td>1</td>\n",
       "    </tr>\n",
       "    <tr>\n",
       "      <th>1</th>\n",
       "      <td>62</td>\n",
       "      <td>1</td>\n",
       "      <td>10.9</td>\n",
       "      <td>5.5</td>\n",
       "      <td>699</td>\n",
       "      <td>64</td>\n",
       "      <td>100</td>\n",
       "      <td>7.5</td>\n",
       "      <td>3.2</td>\n",
       "      <td>0.74</td>\n",
       "      <td>1</td>\n",
       "      <td>1</td>\n",
       "      <td>1</td>\n",
       "    </tr>\n",
       "    <tr>\n",
       "      <th>2</th>\n",
       "      <td>62</td>\n",
       "      <td>1</td>\n",
       "      <td>7.3</td>\n",
       "      <td>4.1</td>\n",
       "      <td>490</td>\n",
       "      <td>60</td>\n",
       "      <td>68</td>\n",
       "      <td>7.0</td>\n",
       "      <td>3.3</td>\n",
       "      <td>0.89</td>\n",
       "      <td>1</td>\n",
       "      <td>1</td>\n",
       "      <td>1</td>\n",
       "    </tr>\n",
       "    <tr>\n",
       "      <th>3</th>\n",
       "      <td>58</td>\n",
       "      <td>1</td>\n",
       "      <td>1.0</td>\n",
       "      <td>0.4</td>\n",
       "      <td>182</td>\n",
       "      <td>14</td>\n",
       "      <td>20</td>\n",
       "      <td>6.8</td>\n",
       "      <td>3.4</td>\n",
       "      <td>1.00</td>\n",
       "      <td>1</td>\n",
       "      <td>1</td>\n",
       "      <td>1</td>\n",
       "    </tr>\n",
       "    <tr>\n",
       "      <th>4</th>\n",
       "      <td>72</td>\n",
       "      <td>1</td>\n",
       "      <td>3.9</td>\n",
       "      <td>2.0</td>\n",
       "      <td>195</td>\n",
       "      <td>27</td>\n",
       "      <td>59</td>\n",
       "      <td>7.3</td>\n",
       "      <td>2.4</td>\n",
       "      <td>0.40</td>\n",
       "      <td>1</td>\n",
       "      <td>1</td>\n",
       "      <td>1</td>\n",
       "    </tr>\n",
       "  </tbody>\n",
       "</table>\n",
       "</div>"
      ],
      "text/plain": [
       "   Age  Gender  Total_Bilirubin  Direct_Bilirubin  Alkaline_Phosphotase  \\\n",
       "0   65       0              0.7               0.1                   187   \n",
       "1   62       1             10.9               5.5                   699   \n",
       "2   62       1              7.3               4.1                   490   \n",
       "3   58       1              1.0               0.4                   182   \n",
       "4   72       1              3.9               2.0                   195   \n",
       "\n",
       "   Alamine_Aminotransferase  Aspartate_Aminotransferase  Total_Protiens  \\\n",
       "0                        16                          18             6.8   \n",
       "1                        64                         100             7.5   \n",
       "2                        60                          68             7.0   \n",
       "3                        14                          20             6.8   \n",
       "4                        27                          59             7.3   \n",
       "\n",
       "   Albumin  Albumin_and_Globulin_Ratio  Dataset  Hypothesis  Result  \n",
       "0      3.3                        0.90        1           1       1  \n",
       "1      3.2                        0.74        1           1       1  \n",
       "2      3.3                        0.89        1           1       1  \n",
       "3      3.4                        1.00        1           1       1  \n",
       "4      2.4                        0.40        1           1       1  "
      ]
     },
     "execution_count": 864,
     "metadata": {},
     "output_type": "execute_result"
    }
   ],
   "source": [
    "# Create a 'Hypothesis' column and set that equal to 0\n",
    "df_liver_hyp['Hypothesis'] = 0\n",
    "\n",
    "# Our hypothesis is that if the patients have liver disease then set the hypothesis column to 1\n",
    "df_liver_hyp.loc[df_liver_hyp['Dataset'] == 1, 'Hypothesis'] = 1\n",
    "\n",
    "# Next, to check if our hypothesis is correct I will create another column called Result and set that equal to 0\n",
    "df_liver_hyp['Result'] = 0\n",
    "\n",
    "# If the Dataset column agrees with our Hypothesis column, I am going to update the 'Result' column by 1.\n",
    "df_liver_hyp.loc[df_liver_hyp['Dataset'] == df_liver_hyp['Hypothesis'], 'Result'] = 1\n",
    "\n",
    "df_liver_hyp.head()"
   ]
  },
  {
   "cell_type": "code",
   "execution_count": 865,
   "id": "5dad92a5",
   "metadata": {},
   "outputs": [
    {
     "data": {
      "text/plain": [
       "1    71.228\n",
       "0    28.772\n",
       "Name: Result, dtype: float64"
      ]
     },
     "execution_count": 865,
     "metadata": {},
     "output_type": "execute_result"
    }
   ],
   "source": [
    "# I will now find the percentage of passengers that have liver disease\n",
    "round(df_liver_hyp['Result'].value_counts(normalize=True) * 100, 3)\n"
   ]
  },
  {
   "cell_type": "markdown",
   "id": "17027688",
   "metadata": {},
   "source": [
    "Based on the simple hypothesis test above, we find that ~ 71% of patients have liver disease. Now we can proceed to using more sophisticated machine learning models to estimate and predict liver disease in df_liver using supervised and un-supervised models. I will also be printing out the percent score and accuracy of each model."
   ]
  },
  {
   "cell_type": "markdown",
   "id": "b2ce83ca",
   "metadata": {},
   "source": [
    "# Balancing the dataset using resampling technique.\n",
    "Oversampling methods duplicate examples in the minority class or synthesize new examples from the examples in the minority class."
   ]
  },
  {
   "cell_type": "code",
   "execution_count": 866,
   "id": "08b23c3f",
   "metadata": {},
   "outputs": [
    {
     "data": {
      "text/plain": [
       "1    406\n",
       "2    406\n",
       "Name: Dataset, dtype: int64"
      ]
     },
     "execution_count": 866,
     "metadata": {},
     "output_type": "execute_result"
    }
   ],
   "source": [
    "target1=data[data['Dataset']==1]\n",
    "target0=data[data['Dataset']==2]\n",
    "target0=resample(target0,replace=True,n_samples=len(target1),random_state=40)\n",
    "target=pd.concat([target1,target0])\n",
    "target['Dataset'].value_counts()"
   ]
  },
  {
   "cell_type": "code",
   "execution_count": 867,
   "id": "00471102",
   "metadata": {},
   "outputs": [],
   "source": [
    "data = target"
   ]
  },
  {
   "cell_type": "code",
   "execution_count": 868,
   "id": "d903a5ab",
   "metadata": {},
   "outputs": [
    {
     "data": {
      "image/png": "[encoded data removed]",
      "text/plain": [
       "<Figure size 576x396 with 1 Axes>"
      ]
     },
     "metadata": {},
     "output_type": "display_data"
    }
   ],
   "source": [
    "sns.countplot(data = data, x = 'Dataset');"
   ]
  },
  {
   "cell_type": "code",
   "execution_count": 869,
   "id": "b8cc153a",
   "metadata": {},
   "outputs": [
    {
     "data": {
      "text/plain": [
       "(812, 13)"
      ]
     },
     "execution_count": 869,
     "metadata": {},
     "output_type": "execute_result"
    }
   ],
   "source": [
    "np.shape(data)"
   ]
  },
  {
   "cell_type": "markdown",
   "id": "fe9d2ba2",
   "metadata": {},
   "source": [
    "# Prediction\n",
    "Here it is a supervised learning method as we have a class label in the dataset. So therefore, we used\n",
    "classification algorithms to predict the output. The classification algorithms like logistic, random\n",
    "forest, decision tree, knn were used."
   ]
  },
  {
   "cell_type": "markdown",
   "id": "d8aa0339",
   "metadata": {},
   "source": [
    "# Training and Testing the Data\n",
    "Here, we are trying to predict whether the patient has an Unhealthy Liver or not using the given data. Hence, the Outcome will be the y label and rest of the data will be the X or the input data."
   ]
  },
  {
   "cell_type": "code",
   "execution_count": 870,
   "id": "b84926f2",
   "metadata": {},
   "outputs": [],
   "source": [
    "Y = data['Dataset']\n",
    "X = data.drop(['Dataset', \"Hypothesis\", \"Result\"], axis=1)\n",
    "train_x, test_x, train_y, test_y = train_test_split(X, Y, test_size=0.4, random_state=1)"
   ]
  },
  {
   "cell_type": "markdown",
   "id": "3a1a6789",
   "metadata": {},
   "source": [
    "# Logistic regression\n",
    "Logistic regression, also known as logit regression or logit model, is a mathematical\n",
    "model used in statistics to estimate (guess) the probability of an event occurring having\n",
    "been given some previous data. Logistic regression works with binary data, where either\n",
    "the event happens (1) or the event does not happen (0)."
   ]
  },
  {
   "cell_type": "code",
   "execution_count": 871,
   "id": "7d146838",
   "metadata": {},
   "outputs": [
    {
     "name": "stdout",
     "output_type": "stream",
     "text": [
      "confussion matrix\n",
      "[[ 98  64]\n",
      " [ 42 121]]\n",
      "\n",
      "\n",
      "Accuracy of Logistic Regression: 67.38461538461539 \n",
      "\n",
      "              precision    recall  f1-score   support\n",
      "\n",
      "           1       0.70      0.60      0.65       162\n",
      "           2       0.65      0.74      0.70       163\n",
      "\n",
      "    accuracy                           0.67       325\n",
      "   macro avg       0.68      0.67      0.67       325\n",
      "weighted avg       0.68      0.67      0.67       325\n",
      "\n"
     ]
    }
   ],
   "source": [
    "m1 = 'LogisticRegression'\n",
    "lr = LogisticRegression(random_state=1, max_iter=1000)\n",
    "model = lr.fit(train_x, train_y)\n",
    "lr_predict = lr.predict(test_x)\n",
    "lr_conf_matrix = confusion_matrix(test_y, lr_predict)\n",
    "lr_acc_score = accuracy_score(test_y, lr_predict)\n",
    "print(\"confussion matrix\")\n",
    "print(lr_conf_matrix)\n",
    "print(\"\\n\")\n",
    "print(\"Accuracy of Logistic Regression:\",lr_acc_score*100,'\\n')\n",
    "print(classification_report(test_y,lr_predict))"
   ]
  },
  {
   "cell_type": "markdown",
   "id": "a0f7b481",
   "metadata": {},
   "source": [
    "# KNN\n",
    "A k-nearest-neighbor algorithm, often abbreviated k-nn, is an approach to data classification that estimates how likely a data point is to be a member of one group or the other depending on what group the data points nearest to it are in.\n",
    "K-nearest neighbors (KNN) algorithm uses ‘feature similarity’ to predict the values of new datapoints which further means that the new data point will be assigned a value based on how closely it matches the points in the training set."
   ]
  },
  {
   "cell_type": "code",
   "execution_count": 872,
   "id": "1f53b5b6",
   "metadata": {},
   "outputs": [
    {
     "name": "stdout",
     "output_type": "stream",
     "text": [
      "confussion matrix\n",
      "[[121  41]\n",
      " [ 16 147]]\n",
      "\n",
      "\n",
      "Accuracy of k-NN Classification: 82.46153846153847 \n",
      "\n",
      "              precision    recall  f1-score   support\n",
      "\n",
      "           1       0.88      0.75      0.81       162\n",
      "           2       0.78      0.90      0.84       163\n",
      "\n",
      "    accuracy                           0.82       325\n",
      "   macro avg       0.83      0.82      0.82       325\n",
      "weighted avg       0.83      0.82      0.82       325\n",
      "\n"
     ]
    }
   ],
   "source": [
    "m2 = 'KNeighborsClassifier'\n",
    "knn = KNeighborsClassifier(n_neighbors=1)\n",
    "model = knn.fit(train_x, train_y)\n",
    "knn_predict = knn.predict(test_x)\n",
    "knn_conf_matrix = confusion_matrix(test_y, knn_predict)\n",
    "knn_acc_score = accuracy_score(test_y, knn_predict)\n",
    "print(\"confussion matrix\")\n",
    "print(knn_conf_matrix)\n",
    "print(\"\\n\")\n",
    "print(\"Accuracy of k-NN Classification:\",knn_acc_score*100,'\\n')\n",
    "print(classification_report(test_y, knn_predict))"
   ]
  },
  {
   "cell_type": "markdown",
   "id": "3162825a",
   "metadata": {},
   "source": [
    "# Random Forest\n",
    "Random forests or random decision forests are an ensemble learning method for classification, regression and other tasks that operates by constructing a multitude of decision trees at training time. For classification tasks, the output of the random forest is the class selected by most trees. For regression tasks, the mean or average prediction of the individual trees is returned."
   ]
  },
  {
   "cell_type": "code",
   "execution_count": 873,
   "id": "001eef37",
   "metadata": {},
   "outputs": [
    {
     "name": "stdout",
     "output_type": "stream",
     "text": [
      "confussion matrix\n",
      "[[119  43]\n",
      " [ 15 148]]\n",
      "\n",
      "\n",
      "Accuracy of Random Forest: 82.15384615384616 \n",
      "\n",
      "              precision    recall  f1-score   support\n",
      "\n",
      "           1       0.89      0.73      0.80       162\n",
      "           2       0.77      0.91      0.84       163\n",
      "\n",
      "    accuracy                           0.82       325\n",
      "   macro avg       0.83      0.82      0.82       325\n",
      "weighted avg       0.83      0.82      0.82       325\n",
      "\n"
     ]
    }
   ],
   "source": [
    "m3 = 'Random Forest Classfier'\n",
    "rf = RandomForestClassifier(n_estimators=200, random_state=0,max_depth=12)\n",
    "rf.fit(train_x,train_y)\n",
    "rf_predicted = rf.predict(test_x)\n",
    "rf_conf_matrix = confusion_matrix(test_y, rf_predicted)\n",
    "rf_acc_score = accuracy_score(test_y, rf_predicted)\n",
    "print(\"confussion matrix\")\n",
    "print(rf_conf_matrix)\n",
    "print(\"\\n\")\n",
    "print(\"Accuracy of Random Forest:\",rf_acc_score*100,'\\n')\n",
    "print(classification_report(test_y,rf_predicted))"
   ]
  },
  {
   "cell_type": "code",
   "execution_count": null,
   "id": "92dcd1d0",
   "metadata": {},
   "outputs": [],
   "source": []
  },
  {
   "cell_type": "markdown",
   "id": "5300390a",
   "metadata": {},
   "source": [
    "# Decision Tree\n",
    "Decision tree is the most powerful and popular tool for classification and prediction. A Decision tree is a flowchart like tree structure, where each internal node denotes a test on an attribute, each branch represents an outcome of the test, and each leaf node(terminal node) holds a class label."
   ]
  },
  {
   "cell_type": "code",
   "execution_count": 874,
   "id": "dc3901ec",
   "metadata": {},
   "outputs": [
    {
     "name": "stdout",
     "output_type": "stream",
     "text": [
      "confussion matrix\n",
      "[[114  48]\n",
      " [ 19 144]]\n",
      "\n",
      "\n",
      "Accuracy of DecisionTreeClassifier: 79.38461538461539 \n",
      "\n",
      "              precision    recall  f1-score   support\n",
      "\n",
      "           1       0.86      0.70      0.77       162\n",
      "           2       0.75      0.88      0.81       163\n",
      "\n",
      "    accuracy                           0.79       325\n",
      "   macro avg       0.80      0.79      0.79       325\n",
      "weighted avg       0.80      0.79      0.79       325\n",
      "\n"
     ]
    }
   ],
   "source": [
    "m4 = 'DecisionTreeClassifier'\n",
    "dt = DecisionTreeClassifier(criterion = 'entropy',random_state=0,max_depth = 30)\n",
    "dt.fit(train_x,train_y)\n",
    "dt_predicted = dt.predict(test_x)\n",
    "dt_conf_matrix = confusion_matrix(test_y, dt_predicted)\n",
    "dt_acc_score = accuracy_score(test_y, dt_predicted)\n",
    "print(\"confussion matrix\")\n",
    "print(dt_conf_matrix)\n",
    "print(\"\\n\")\n",
    "print(\"Accuracy of DecisionTreeClassifier:\",dt_acc_score*100,'\\n')\n",
    "print(classification_report(test_y,dt_predicted))"
   ]
  },
  {
   "cell_type": "markdown",
   "id": "e4315a8b",
   "metadata": {},
   "source": [
    "# Comparing the Models and their Accuracies."
   ]
  },
  {
   "cell_type": "code",
   "execution_count": 875,
   "id": "43cfcaed",
   "metadata": {},
   "outputs": [
    {
     "data": {
      "text/html": [
       "<div>\n",
       "<style scoped>\n",
       "    .dataframe tbody tr th:only-of-type {\n",
       "        vertical-align: middle;\n",
       "    }\n",
       "\n",
       "    .dataframe tbody tr th {\n",
       "        vertical-align: top;\n",
       "    }\n",
       "\n",
       "    .dataframe thead th {\n",
       "        text-align: right;\n",
       "    }\n",
       "</style>\n",
       "<table border=\"1\" class=\"dataframe\">\n",
       "  <thead>\n",
       "    <tr style=\"text-align: right;\">\n",
       "      <th></th>\n",
       "      <th>Model</th>\n",
       "      <th>Accuracy</th>\n",
       "    </tr>\n",
       "  </thead>\n",
       "  <tbody>\n",
       "    <tr>\n",
       "      <th>0</th>\n",
       "      <td>Logistic Regression</td>\n",
       "      <td>67.384615</td>\n",
       "    </tr>\n",
       "    <tr>\n",
       "      <th>1</th>\n",
       "      <td>K-Nearest Neighbour</td>\n",
       "      <td>82.461538</td>\n",
       "    </tr>\n",
       "    <tr>\n",
       "      <th>2</th>\n",
       "      <td>Random Forest</td>\n",
       "      <td>82.153846</td>\n",
       "    </tr>\n",
       "    <tr>\n",
       "      <th>3</th>\n",
       "      <td>Decision Tree</td>\n",
       "      <td>79.384615</td>\n",
       "    </tr>\n",
       "  </tbody>\n",
       "</table>\n",
       "</div>"
      ],
      "text/plain": [
       "                 Model   Accuracy\n",
       "0  Logistic Regression  67.384615\n",
       "1  K-Nearest Neighbour  82.461538\n",
       "2        Random Forest  82.153846\n",
       "3        Decision Tree  79.384615"
      ]
     },
     "execution_count": 875,
     "metadata": {},
     "output_type": "execute_result"
    }
   ],
   "source": [
    "model_ev = pd.DataFrame({'Model': ['Logistic Regression','K-Nearest Neighbour','Random Forest',\n",
    "                                   'Decision Tree'], 'Accuracy': [lr_acc_score*100, knn_acc_score*100, \n",
    "                                                                                      rf_acc_score*100, dt_acc_score*100]})\n",
    "model_ev"
   ]
  },
  {
   "cell_type": "markdown",
   "id": "b9075076",
   "metadata": {},
   "source": [
    "Here We can observe that K-NN and Random Forest gave the best accuracy among the other models."
   ]
  },
  {
   "cell_type": "markdown",
   "id": "fb7a8438",
   "metadata": {},
   "source": [
    "# Using Random Forest for predicting whether a person has liver disease or not.\n",
    "Considering to take sample values"
   ]
  },
  {
   "cell_type": "code",
   "execution_count": 879,
   "id": "15915737",
   "metadata": {},
   "outputs": [
    {
     "name": "stdout",
     "output_type": "stream",
     "text": [
      "Testing the model: [2]\n"
     ]
    }
   ],
   "source": [
    "#Healthy person values were taken as sample and the model predicted that the person is healthy.\n",
    "print('Testing the model:',rf.predict(np.array([[50,1,1.2,0.3,100,30,20,7,4.1,3.5]])))"
   ]
  },
  {
   "cell_type": "code",
   "execution_count": 880,
   "id": "64967702",
   "metadata": {},
   "outputs": [
    {
     "name": "stdout",
     "output_type": "stream",
     "text": [
      "Testing the model: [1]\n"
     ]
    }
   ],
   "source": [
    "#Unhealthy person values were taken as sample and the model predicted that the person is unhealthy.\n",
    "print('Testing the model:',rf.predict(np.array([[60,1,2,6,300,45,60,17,9.2,8]])))"
   ]
  },
  {
   "cell_type": "markdown",
   "id": "f771130a",
   "metadata": {},
   "source": [
    "# Conclusion\n",
    "It appears that the two best machine learning models are k-NN and Random forest as had the highest score and accuracy. Interestingly, I wasn't that far off from using the simple hypothesis testing, which gave me 71.355%. Balancing of data resulted increase of accuracy.We can conclude that basically in India men were more addicted to alcohol which causes liver diseases so we can assume that would be the reason as men were mostly suffering from liver diseases."
   ]
  },
  {
   "cell_type": "markdown",
   "id": "d84fd6e2",
   "metadata": {},
   "source": [
    "# dgngm\n"
   ]
  },
  {
   "cell_type": "markdown",
   "id": "871e4787",
   "metadata": {},
   "source": []
  },
  {
   "cell_type": "code",
   "execution_count": null,
   "id": "13dad32d",
   "metadata": {},
   "outputs": [],
   "source": []
  }
 ],
 "metadata": {
  "kernelspec": {
   "display_name": "Python 3 (ipykernel)",
   "language": "python",
   "name": "python3"
  },
  "language_info": {
   "codemirror_mode": {
    "name": "ipython",
    "version": 3
   },
   "file_extension": ".py",
   "mimetype": "text/x-python",
   "name": "python",
   "nbconvert_exporter": "python",
   "pygments_lexer": "ipython3",
   "version": "3.8.12"
  }
 },
 "nbformat": 4,
 "nbformat_minor": 5
}
